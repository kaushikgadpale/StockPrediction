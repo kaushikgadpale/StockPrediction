{
 "cells": [
  {
   "cell_type": "code",
   "execution_count": 34,
   "metadata": {
    "collapsed": false
   },
   "outputs": [
    {
     "name": "stdout",
     "output_type": "stream",
     "text": [
      "Stock Prediction using Lstm <Historical Stock data,Semantic score>\n"
     ]
    }
   ],
   "source": [
    "print \"Stock Prediction using Lstm <Historical Stock data,Semantic score>\""
   ]
  },
  {
   "cell_type": "code",
   "execution_count": 18,
   "metadata": {
    "collapsed": false
   },
   "outputs": [],
   "source": [
    "import numpy as np\n",
    "import matplotlib.pyplot as plt\n",
    "import pandas as pd\n",
    "from pandas import datetime\n",
    "import math, time\n",
    "import itertools\n",
    "from sklearn import preprocessing\n",
    "import datetime\n",
    "from operator import itemgetter\n",
    "from sklearn.metrics import mean_squared_error\n",
    "from math import sqrt\n",
    "from keras.models import Sequential\n",
    "from keras.layers.core import Dense, Dropout, Activation\n",
    "from keras.layers.recurrent import LSTM\n",
    "import datetime"
   ]
  },
  {
   "cell_type": "code",
   "execution_count": 19,
   "metadata": {
    "collapsed": false
   },
   "outputs": [],
   "source": [
    "def get_stock_data(stock_name,market_name,normalized=0):\n",
    "    #getting todays date\n",
    "    today=datetime.datetime.now()\n",
    "    #dictionary for the months for Google Finance API\n",
    "    month={1:'Jan',2:'Feb',3:'Mar',4:'Apr',5:'May',6:'Jun',7:'Jul',8:'Aug',9:'Sep',10:'Oct',11:'Nov',12:'Dec'}\n",
    "    #https://finance.google.com/finance/historical?q=NASDAQ:AAPL&num=30&ei=-8_DWfi2NMOYuQSr3424BA&startdate=Sep+21%2C+2014&enddate=Sep+21%2C+2017&output=csv\n",
    "    url=\"https://finance.google.com/finance/historical?q=\"+market_name+\":\"+stock_name+\"&num=30&ei=-8_DWfi2NMOYuQSr3424BA\"+\"&startdate=\"+month[today.month]+\"+\"+str(today.day)+\"%2C+\"+str(today.year-2)+\"&enddate=\"+month[today.month]+\"+\"+str(today.day)+\"%2C+\"+str(today.year)+\"&output=csv\"\n",
    "    \n",
    "    col_names = ['Date','Open','High','Low','Close','Volume']\n",
    "    stocks = pd.read_csv(url,header=0, names=col_names)\n",
    "    \n",
    "    df_stocks= pd.DataFrame(stocks)\n",
    "    \n",
    "    sem_cols=['Date','Semantic']\n",
    "    semantic=pd.read_csv('/home/siddharth/Desktop/StockPrediction/semantic/semantic.csv',header=0,names=sem_cols)\n",
    "    df_semantics=pd.DataFrame(semantic)\n",
    "    df=pd.merge(semantic,stocks,how='inner',left_on=None, right_on=None)\n",
    "    df=df[::-1]\n",
    "    df_date=df.copy()\n",
    "    df.drop(df.columns[[0,4,6]], axis=1, inplace=True)\n",
    "    df_date.drop(df_date.columns[[4,6]], axis=1, inplace=True)\n",
    "    columns=['Open','High','Close']\n",
    "    df[columns] = df[columns].convert_objects(convert_numeric=True)\n",
    "    df[columns] = df[columns].astype('float64')\n",
    "    print df.dtypes\n",
    "    return df,df_date"
   ]
  },
  {
   "cell_type": "code",
   "execution_count": 20,
   "metadata": {
    "collapsed": false
   },
   "outputs": [
    {
     "name": "stdout",
     "output_type": "stream",
     "text": [
      "Semantic    float64\n",
      "Open        float64\n",
      "High        float64\n",
      "Close       float64\n",
      "dtype: object\n",
      "df---------------------------\n",
      "   Semantic   Open   High  Close\n",
      "4     0.000  53.54  53.98  53.98\n",
      "3     0.000  53.99  54.37  53.69\n",
      "2     0.000  52.53  54.32  54.25\n",
      "1     0.000  52.30  54.07  52.87\n",
      "0    -0.227  47.53  48.95  48.03\n",
      "df with date-----------------\n",
      "        Date  Semantic   Open   High  Close\n",
      "4  28-Oct-15     0.000  53.54  53.98  53.98\n",
      "3  27-Oct-15     0.000  53.99  54.37  53.69\n",
      "2  26-Oct-15     0.000  52.53  54.32  54.25\n",
      "1  23-Oct-15     0.000  52.30  54.07  52.87\n",
      "0  22-Oct-15    -0.227  47.53  48.95  48.03\n"
     ]
    },
    {
     "name": "stderr",
     "output_type": "stream",
     "text": [
      "/home/siddharth/miniconda2/lib/python2.7/site-packages/ipykernel/__main__.py:23: FutureWarning: convert_objects is deprecated.  Use the data-type specific converters pd.to_datetime, pd.to_timedelta and pd.to_numeric.\n"
     ]
    }
   ],
   "source": [
    "stock_name = 'MSFT'\n",
    "market_name= 'NASDAQ'\n",
    "df,df_date= get_stock_data(stock_name,market_name,0)\n",
    "print \"df---------------------------\"\n",
    "print df.tail()\n",
    "print \"df with date-----------------\"\n",
    "print df_date.tail()"
   ]
  },
  {
   "cell_type": "code",
   "execution_count": 21,
   "metadata": {
    "collapsed": false
   },
   "outputs": [
    {
     "name": "stdout",
     "output_type": "stream",
     "text": [
      "     Semantic      Open      High     Close\n",
      "346  0.124000  0.981287  0.981177  0.987407\n",
      "345  0.058000  0.975979  0.973674  0.979189\n",
      "344 -0.085333  0.976111  0.976306  0.978924\n",
      "343  0.316750  0.977704  0.971568  0.971103\n",
      "342  0.187500  0.983278  0.977359  0.971103\n"
     ]
    }
   ],
   "source": [
    "maxhigh=max(df['High'])\n",
    "maxclose=max(df['Close'])\n",
    "maxopen=max(df['Open'])\n",
    "df['High']=df['High']/max(df['High'])\n",
    "df['Close']=df['Close']/max(df['Close'])\n",
    "df['Open']=df['Open']/max(df['Open'])\n",
    "print df.head()"
   ]
  },
  {
   "cell_type": "code",
   "execution_count": 22,
   "metadata": {
    "collapsed": true
   },
   "outputs": [],
   "source": [
    "def model_data(stock,seq_len):\n",
    "    features=len(stock.columns)\n",
    "    data=stock.as_matrix()\n",
    "    print data"
   ]
  },
  {
   "cell_type": "code",
   "execution_count": 23,
   "metadata": {
    "collapsed": false
   },
   "outputs": [],
   "source": [
    "#main lstm !--! Yo ready for work\n",
    "def build_model2(layers):\n",
    "        d = 0.2\n",
    "        model = Sequential()\n",
    "        model.add(LSTM(128, input_shape=(layers[1], layers[0]), return_sequences=True))\n",
    "        model.add(Dropout(d))\n",
    "        model.add(LSTM(64, input_shape=(layers[1], layers[0]), return_sequences=False))\n",
    "        model.add(Dropout(d))\n",
    "        model.add(Dense(16,init='uniform',activation='relu'))        \n",
    "        model.add(Dense(1,init='uniform',activation='relu'))\n",
    "        model.compile(loss='mse',optimizer='adam',metrics=['accuracy'])\n",
    "        return model"
   ]
  },
  {
   "cell_type": "code",
   "execution_count": 24,
   "metadata": {
    "collapsed": true
   },
   "outputs": [],
   "source": [
    "def load_data(stock, seq_len):\n",
    "    amount_of_features = len(stock.columns)\n",
    "    data = stock.as_matrix() #pd.DataFrame(stock)\n",
    "    sequence_length = seq_len + 1\n",
    "    result = []\n",
    "    for index in range(len(data) - sequence_length):\n",
    "        result.append(data[index: index + sequence_length])\n",
    "\n",
    "    result = np.array(result)\n",
    "    row = round(0.9 * result.shape[0])\n",
    "    train = result[:int(row), :]\n",
    "    x_train = train[:, :-1]\n",
    "    y_train = train[:, -1][:,-1]\n",
    "    x_test = result[int(row):, :-1]\n",
    "    y_test = result[int(row):, -1][:,-1]\n",
    "\n",
    "    x_train = np.reshape(x_train, (x_train.shape[0], x_train.shape[1], amount_of_features))\n",
    "    x_test = np.reshape(x_test, (x_test.shape[0], x_test.shape[1], amount_of_features))  \n",
    "\n",
    "    return [x_train, y_train, x_test, y_test]"
   ]
  },
  {
   "cell_type": "code",
   "execution_count": 25,
   "metadata": {
    "collapsed": false
   },
   "outputs": [
    {
     "name": "stdout",
     "output_type": "stream",
     "text": [
      "('X_train', (307, 5, 4))\n",
      "('y_train', (307,))\n",
      "('X_test', (34, 5, 4))\n",
      "('y_test', (34,))\n"
     ]
    }
   ],
   "source": [
    "window = 5\n",
    "X_train, y_train, X_test, y_test = load_data(df[::-1], window)\n",
    "print(\"X_train\", X_train.shape)\n",
    "print(\"y_train\", y_train.shape)\n",
    "print(\"X_test\", X_test.shape)\n",
    "print(\"y_test\", y_test.shape)"
   ]
  },
  {
   "cell_type": "code",
   "execution_count": 26,
   "metadata": {
    "collapsed": false
   },
   "outputs": [
    {
     "name": "stderr",
     "output_type": "stream",
     "text": [
      "/home/siddharth/miniconda2/lib/python2.7/site-packages/ipykernel/__main__.py:9: UserWarning: Update your `Dense` call to the Keras 2 API: `Dense(16, activation=\"relu\", kernel_initializer=\"uniform\")`\n",
      "/home/siddharth/miniconda2/lib/python2.7/site-packages/ipykernel/__main__.py:10: UserWarning: Update your `Dense` call to the Keras 2 API: `Dense(1, activation=\"relu\", kernel_initializer=\"uniform\")`\n"
     ]
    },
    {
     "data": {
      "text/plain": [
       "<keras.callbacks.History at 0x7fcf78d23710>"
      ]
     },
     "execution_count": 26,
     "metadata": {},
     "output_type": "execute_result"
    }
   ],
   "source": [
    "model = build_model2([4,window,1])\n",
    "\n",
    "model.fit(\n",
    "    X_train,\n",
    "    y_train,\n",
    "    batch_size=512,\n",
    "    nb_epoch=500,\n",
    "    validation_split=0.1,\n",
    "    verbose=0)"
   ]
  },
  {
   "cell_type": "code",
   "execution_count": 27,
   "metadata": {
    "collapsed": false
   },
   "outputs": [
    {
     "name": "stdout",
     "output_type": "stream",
     "text": [
      "Train Score: 0.00 MSE (0.02 RMSE)\n",
      "Test Score: 0.00 MSE (0.06 RMSE)\n"
     ]
    }
   ],
   "source": [
    "trainScore = model.evaluate(X_train, y_train, verbose=0)\n",
    "print('Train Score: %.2f MSE (%.2f RMSE)' % (trainScore[0], math.sqrt(trainScore[0])))\n",
    "\n",
    "testScore = model.evaluate(X_test, y_test, verbose=0)\n",
    "print('Test Score: %.2f MSE (%.2f RMSE)' % (testScore[0], math.sqrt(testScore[0])))"
   ]
  },
  {
   "cell_type": "code",
   "execution_count": 28,
   "metadata": {
    "collapsed": false,
    "scrolled": true
   },
   "outputs": [
    {
     "name": "stdout",
     "output_type": "stream",
     "text": [
      "index     actual         predicted      error              difference       \n",
      "(0, 0.98157476139978794, 0.91801262, 6.9238854743834954, 0.063562142381233255)\n",
      "(1, 0.96977730646871685, 0.91803205, 5.6365413743978632, 0.051745256335965384)\n",
      "(2, 0.96818663838812313, 0.91719794, 5.5591812060092005, 0.050988695654358485)\n",
      "(3, 0.9636797454931072, 0.9172647, 5.0601582684297153, 0.046415045557194112)\n",
      "(4, 0.9465800636267232, 0.91744065, 3.1761630236243121, 0.029139410779433161)\n",
      "(5, 0.96102863202545075, 0.91707528, 4.7927751170417254, 0.043953355650633852)\n",
      "(6, 0.97547720042417818, 0.91621852, 6.467745409076131, 0.059258681213362752)\n",
      "(7, 0.97057264050901382, 0.91541529, 6.025391346792941, 0.055157353491191552)\n",
      "(8, 0.97627253446447515, 0.91533947, 6.6568815786803626, 0.060933064554807181)\n",
      "(9, 0.95970307529162258, 0.9153074, 4.8503565637305845, 0.044395672680843767)\n",
      "(10, 0.96089607635206786, 0.9165982, 4.8328564812221142, 0.044297875554033195)\n",
      "(11, 0.95638918345705204, 0.91733086, 4.2578227793360401, 0.039058322365438269)\n",
      "(12, 0.96977730646871685, 0.9164983, 5.8133226059332799, 0.053279003055325735)\n",
      "(13, 0.96394485683987274, 0.91619253, 5.2120404399643494, 0.047752325254179384)\n",
      "(14, 0.96354718981972431, 0.91545796, 5.2530239257617906, 0.048089225876242869)\n",
      "(15, 0.96527041357370091, 0.91484809, 5.5115515843350504, 0.050422324355561265)\n",
      "(16, 0.9654029692470838, 0.91507351, 5.5000450229669928, 0.050329455262403622)\n",
      "(17, 0.96831919406150579, 0.91549027, 5.7705609935233104, 0.052828924400556088)\n",
      "(18, 0.98104453870625674, 0.91551614, 7.1575363780183698, 0.065528400629474515)\n",
      "(19, 0.99111876988335101, 0.9157505, 8.2302183893930625, 0.075368266343311952)\n",
      "(20, 0.99098621420996824, 0.91646075, 8.1318770629872574, 0.074525461722785624)\n",
      "(21, 0.98992576882290573, 0.91731536, 7.915533501095684, 0.072610404938933559)\n",
      "(22, 0.99695121951219512, 0.91854537, 8.535871731296151, 0.07840585417863799)\n",
      "(23, 0.99111876988335101, 0.91955459, 7.7824828880153518, 0.071564178704456971)\n",
      "(24, 0.9982767762460234, 0.91938424, 8.5810188618365082, 0.078892535141897424)\n",
      "(25, 0.99628844114528103, 0.91972911, 8.3241170075155644, 0.076559327566484647)\n",
      "(26, 1.0, 0.91985416, 8.7128850422534256, 0.080145835876464844)\n",
      "(27, 0.99337221633085893, 0.92030573, 7.9393711375520537, 0.07306648741850541)\n",
      "(28, 0.98369565217391297, 0.92039013, 6.8781184286703212, 0.063305523084557502)\n",
      "(29, 0.98634676564156942, 0.92088079, 7.109060315475535, 0.065465971116422939)\n",
      "(30, 0.97110286320254513, 0.92085254, 5.4569346329931268, 0.050250321279022181)\n",
      "(31, 0.97110286320254513, 0.92120326, 5.4167858442675021, 0.049899607549163782)\n",
      "(32, 0.97892364793213149, 0.92121756, 6.2641106315741268, 0.05770608716400405)\n",
      "(33, 0.97918875927889726, 0.92068887, 6.3539262578891975, 0.058499891709927532)\n"
     ]
    }
   ],
   "source": [
    "diff=[]\n",
    "ratio=[]\n",
    "p = model.predict(X_test)\n",
    "print \"index\",\"    actual        \",\"predicted     \",\"error          \",\"   difference       \"\n",
    "for u in range(len(y_test)):\n",
    "    pr = p[u][0]\n",
    "    ratio.append((y_test[u]/pr)-1)\n",
    "    diff.append(abs(y_test[u]- pr))\n",
    "    k=((y_test[u]/pr)-1)*100\n",
    "    print(u, y_test[u], pr, k, abs(y_test[u]- pr))"
   ]
  },
  {
   "cell_type": "code",
   "execution_count": 29,
   "metadata": {
    "collapsed": false
   },
   "outputs": [
    {
     "name": "stdout",
     "output_type": "stream",
     "text": [
      "average error rate : 6.35559268547\n"
     ]
    }
   ],
   "source": [
    "#size=len(ratio)\n",
    "#error=sum(ratio)/size\n",
    "total=0;\n",
    "ct=0;\n",
    "for g in ratio:\n",
    "    if not math.isnan(g):\n",
    "        total=total+g\n",
    "        ct=ct+1\n",
    "error=total/ct        \n",
    "print \"average error rate :\",abs(error*100)"
   ]
  },
  {
   "cell_type": "code",
   "execution_count": 30,
   "metadata": {
    "collapsed": false,
    "scrolled": true
   },
   "outputs": [
    {
     "name": "stdout",
     "output_type": "stream",
     "text": [
      "MSFT 2017-10-04 20:50:31.492734\n"
     ]
    },
    {
     "data": {
      "image/png": "[encoded data removed]",
      "text/plain": [
       "<matplotlib.figure.Figure at 0x7fcf788f49d0>"
      ]
     },
     "metadata": {},
     "output_type": "display_data"
    }
   ],
   "source": [
    "import matplotlib.pyplot as plt2\n",
    "print stock_name,datetime.datetime.now()\n",
    "plt2.plot(p*maxclose,color='red', label='prediction')\n",
    "plt2.plot(y_test*maxclose,color='blue', label='y_test')\n",
    "plt2.ylim([0,maxclose+100])\n",
    "plt2.legend(loc='upper left')\n",
    "plt2.show()"
   ]
  },
  {
   "cell_type": "code",
   "execution_count": 31,
   "metadata": {
    "collapsed": true
   },
   "outputs": [],
   "source": [
    "#not bad"
   ]
  },
  {
   "cell_type": "code",
   "execution_count": 32,
   "metadata": {
    "collapsed": false
   },
   "outputs": [
    {
     "name": "stdout",
     "output_type": "stream",
     "text": [
      "next time\n"
     ]
    }
   ],
   "source": [
    " print \"next time\""
   ]
  }
 ],
 "metadata": {
  "kernelspec": {
   "display_name": "Python 2",
   "language": "python",
   "name": "python2"
  },
  "language_info": {
   "codemirror_mode": {
    "name": "ipython",
    "version": 2
   },
   "file_extension": ".py",
   "mimetype": "text/x-python",
   "name": "python",
   "nbconvert_exporter": "python",
   "pygments_lexer": "ipython2",
   "version": "2.7.13"
  }
 },
 "nbformat": 4,
 "nbformat_minor": 2
}
