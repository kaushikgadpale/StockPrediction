{
 "cells": [
  {
   "cell_type": "code",
   "execution_count": 1,
   "metadata": {
    "collapsed": false
   },
   "outputs": [
    {
     "name": "stdout",
     "output_type": "stream",
     "text": [
      "Stock Prediction using Lstm <Historical Stock data,Semantic score>\n"
     ]
    }
   ],
   "source": [
    "print \"Stock Prediction using Lstm <Historical Stock data,Semantic score>\""
   ]
  },
  {
   "cell_type": "code",
   "execution_count": 2,
   "metadata": {
    "collapsed": false
   },
   "outputs": [
    {
     "name": "stderr",
     "output_type": "stream",
     "text": [
      "Using TensorFlow backend.\n"
     ]
    }
   ],
   "source": [
    "import numpy as np\n",
    "import matplotlib.pyplot as plt\n",
    "import pandas as pd\n",
    "from pandas import datetime\n",
    "import math, time\n",
    "import itertools\n",
    "from sklearn import preprocessing\n",
    "import datetime\n",
    "from operator import itemgetter\n",
    "from sklearn.metrics import mean_squared_error\n",
    "from math import sqrt\n",
    "from keras.models import Sequential\n",
    "from keras.layers.core import Dense, Dropout, Activation\n",
    "from keras.layers.recurrent import LSTM\n",
    "import datetime"
   ]
  },
  {
   "cell_type": "code",
   "execution_count": 3,
   "metadata": {
    "collapsed": false
   },
   "outputs": [],
   "source": [
    "def get_stock_data(stock_name,market_name,normalized=0):\n",
    "    #getting todays date\n",
    "    today=datetime.datetime.now()\n",
    "    #dictionary for the months for Google Finance API\n",
    "    month={1:'Jan',2:'Feb',3:'Mar',4:'Apr',5:'May',6:'Jun',7:'Jul',8:'Aug',9:'Sep',10:'Oct',11:'Nov',12:'Dec'}\n",
    "    #https://finance.google.com/finance/historical?q=NASDAQ:AAPL&num=30&ei=-8_DWfi2NMOYuQSr3424BA&startdate=Sep+21%2C+2014&enddate=Sep+21%2C+2017&output=csv\n",
    "    url=\"https://finance.google.com/finance/historical?q=\"+market_name+\":\"+stock_name+\"&num=30&ei=-8_DWfi2NMOYuQSr3424BA\"+\"&startdate=\"+month[today.month]+\"+\"+str(today.day)+\"%2C+\"+str(today.year-2)+\"&enddate=\"+month[today.month]+\"+\"+str(today.day)+\"%2C+\"+str(today.year)+\"&output=csv\"\n",
    "    \n",
    "    col_names = ['Date','Open','High','Low','Close','Volume']\n",
    "    stocks = pd.read_csv(url,header=0, names=col_names)\n",
    "    \n",
    "    df_stocks= pd.DataFrame(stocks)\n",
    "    \n",
    "    sem_cols=['Date','Semantic']\n",
    "    semantic=pd.read_csv('/home/siddharth/Desktop/StockPrediction/semantic/semantic.csv',header=0,names=sem_cols)\n",
    "    df_semantics=pd.DataFrame(semantic)\n",
    "    df=pd.merge(semantic,stocks,how='inner',left_on=None, right_on=None)\n",
    "    df=df[::-1]\n",
    "    df_date=df.copy()\n",
    "    df.drop(df.columns[[0,4,6]], axis=1, inplace=True)\n",
    "    df_date.drop(df_date.columns[[4,6]], axis=1, inplace=True)\n",
    "    columns=['Open','High','Close']\n",
    "    df[columns] = df[columns].convert_objects(convert_numeric=True)\n",
    "    df[columns] = df[columns].astype('float64')\n",
    "    print df.dtypes\n",
    "    return df,df_date"
   ]
  },
  {
   "cell_type": "code",
   "execution_count": 4,
   "metadata": {
    "collapsed": false
   },
   "outputs": [
    {
     "name": "stdout",
     "output_type": "stream",
     "text": [
      "Semantic    float64\n",
      "Open        float64\n",
      "High        float64\n",
      "Close       float64\n",
      "dtype: object\n",
      "df---------------------------\n",
      "   Semantic    Open    High   Close\n",
      "4    -0.239  743.91  753.92  737.77\n",
      "3     0.000  777.31  781.68  780.00\n",
      "2    -0.321  779.16  779.66  774.92\n",
      "1     0.000  790.50  790.95  776.25\n",
      "0    -0.090  780.19  788.55  787.68\n",
      "df with date-----------------\n",
      "        Date  Semantic    Open    High   Close\n",
      "4  22-Apr-16    -0.239  743.91  753.92  737.77\n",
      "3  21-Apr-16     0.000  777.31  781.68  780.00\n",
      "2  20-Apr-16    -0.321  779.16  779.66  774.92\n",
      "1  19-Apr-16     0.000  790.50  790.95  776.25\n",
      "0  18-Apr-16    -0.090  780.19  788.55  787.68\n"
     ]
    },
    {
     "name": "stderr",
     "output_type": "stream",
     "text": [
      "/home/siddharth/miniconda2/lib/python2.7/site-packages/ipykernel/__main__.py:23: FutureWarning: convert_objects is deprecated.  Use the data-type specific converters pd.to_datetime, pd.to_timedelta and pd.to_numeric.\n"
     ]
    }
   ],
   "source": [
    "stock_name = 'NASDAQ'\n",
    "market_name= 'GOOGL'\n",
    "df,df_date= get_stock_data(stock_name,market_name,0)\n",
    "print \"df---------------------------\"\n",
    "print df.tail()\n",
    "print \"df with date-----------------\"\n",
    "print df_date.tail()"
   ]
  },
  {
   "cell_type": "code",
   "execution_count": 5,
   "metadata": {
    "collapsed": false
   },
   "outputs": [
    {
     "name": "stdout",
     "output_type": "stream",
     "text": [
      "     Semantic      Open      High     Close\n",
      "263  0.001250  0.968907  0.969807  0.975368\n",
      "262 -0.003500  0.959127  0.960236  0.966443\n",
      "261  0.007333  0.945577  0.959491  0.961525\n",
      "260  0.030571  0.939509  0.938272  0.939017\n",
      "259 -0.155000  0.942277  0.933969  0.935862\n"
     ]
    }
   ],
   "source": [
    "maxhigh=max(df['High'])\n",
    "maxclose=max(df['Close'])\n",
    "maxopen=max(df['Open'])\n",
    "df['High']=df['High']/max(df['High'])\n",
    "df['Close']=df['Close']/max(df['Close'])\n",
    "df['Open']=df['Open']/max(df['Open'])\n",
    "print df.head()"
   ]
  },
  {
   "cell_type": "code",
   "execution_count": 6,
   "metadata": {
    "collapsed": true
   },
   "outputs": [],
   "source": [
    "def model_data(stock,seq_len):\n",
    "    features=len(stock.columns)\n",
    "    data=stock.as_matrix()\n",
    "    print data"
   ]
  },
  {
   "cell_type": "code",
   "execution_count": 7,
   "metadata": {
    "collapsed": false
   },
   "outputs": [],
   "source": [
    "#main lstm !--! Yo ready for work\n",
    "def build_model2(layers):\n",
    "        d = 0.2\n",
    "        model = Sequential()\n",
    "        model.add(LSTM(128, input_shape=(layers[1], layers[0]), return_sequences=True))\n",
    "        model.add(Dropout(d))\n",
    "        model.add(LSTM(64, input_shape=(layers[1], layers[0]), return_sequences=False))\n",
    "        model.add(Dropout(d))\n",
    "        model.add(Dense(16,init='uniform',activation='relu'))        \n",
    "        model.add(Dense(1,init='uniform',activation='relu'))\n",
    "        model.compile(loss='mse',optimizer='adam',metrics=['accuracy'])\n",
    "        return model"
   ]
  },
  {
   "cell_type": "code",
   "execution_count": 8,
   "metadata": {
    "collapsed": true
   },
   "outputs": [],
   "source": [
    "def load_data(stock, seq_len):\n",
    "    amount_of_features = len(stock.columns)\n",
    "    data = stock.as_matrix() #pd.DataFrame(stock)\n",
    "    sequence_length = seq_len + 1\n",
    "    result = []\n",
    "    for index in range(len(data) - sequence_length):\n",
    "        result.append(data[index: index + sequence_length])\n",
    "\n",
    "    result = np.array(result)\n",
    "    row = round(0.9 * result.shape[0])\n",
    "    train = result[:int(row), :]\n",
    "    x_train = train[:, :-1]\n",
    "    y_train = train[:, -1][:,-1]\n",
    "    x_test = result[int(row):, :-1]\n",
    "    y_test = result[int(row):, -1][:,-1]\n",
    "\n",
    "    x_train = np.reshape(x_train, (x_train.shape[0], x_train.shape[1], amount_of_features))\n",
    "    x_test = np.reshape(x_test, (x_test.shape[0], x_test.shape[1], amount_of_features))  \n",
    "\n",
    "    return [x_train, y_train, x_test, y_test]"
   ]
  },
  {
   "cell_type": "code",
   "execution_count": 9,
   "metadata": {
    "collapsed": false
   },
   "outputs": [
    {
     "name": "stdout",
     "output_type": "stream",
     "text": [
      "('X_train', (232, 5, 4))\n",
      "('y_train', (232,))\n",
      "('X_test', (26, 5, 4))\n",
      "('y_test', (26,))\n"
     ]
    }
   ],
   "source": [
    "window = 5\n",
    "X_train, y_train, X_test, y_test = load_data(df[::-1], window)\n",
    "print(\"X_train\", X_train.shape)\n",
    "print(\"y_train\", y_train.shape)\n",
    "print(\"X_test\", X_test.shape)\n",
    "print(\"y_test\", y_test.shape)"
   ]
  },
  {
   "cell_type": "code",
   "execution_count": 10,
   "metadata": {
    "collapsed": false
   },
   "outputs": [
    {
     "name": "stderr",
     "output_type": "stream",
     "text": [
      "/home/siddharth/miniconda2/lib/python2.7/site-packages/ipykernel/__main__.py:9: UserWarning: Update your `Dense` call to the Keras 2 API: `Dense(16, activation=\"relu\", kernel_initializer=\"uniform\")`\n",
      "/home/siddharth/miniconda2/lib/python2.7/site-packages/ipykernel/__main__.py:10: UserWarning: Update your `Dense` call to the Keras 2 API: `Dense(1, activation=\"relu\", kernel_initializer=\"uniform\")`\n",
      "/home/siddharth/miniconda2/lib/python2.7/site-packages/keras/models.py:851: UserWarning: The `nb_epoch` argument in `fit` has been renamed `epochs`.\n",
      "  warnings.warn('The `nb_epoch` argument in `fit` '\n"
     ]
    },
    {
     "data": {
      "text/plain": [
       "<keras.callbacks.History at 0x7f427ca70c90>"
      ]
     },
     "execution_count": 10,
     "metadata": {},
     "output_type": "execute_result"
    }
   ],
   "source": [
    "model = build_model2([4,window,1])\n",
    "\n",
    "model.fit(\n",
    "    X_train,\n",
    "    y_train,\n",
    "    batch_size=512,\n",
    "    nb_epoch=500,\n",
    "    validation_split=0.1,\n",
    "    verbose=0)"
   ]
  },
  {
   "cell_type": "code",
   "execution_count": 11,
   "metadata": {
    "collapsed": false
   },
   "outputs": [
    {
     "name": "stdout",
     "output_type": "stream",
     "text": [
      "Train Score: 0.00 MSE (0.02 RMSE)\n",
      "Test Score: 0.00 MSE (0.01 RMSE)\n"
     ]
    }
   ],
   "source": [
    "trainScore = model.evaluate(X_train, y_train, verbose=0)\n",
    "print('Train Score: %.2f MSE (%.2f RMSE)' % (trainScore[0], math.sqrt(trainScore[0])))\n",
    "\n",
    "testScore = model.evaluate(X_test, y_test, verbose=0)\n",
    "print('Test Score: %.2f MSE (%.2f RMSE)' % (testScore[0], math.sqrt(testScore[0])))"
   ]
  },
  {
   "cell_type": "code",
   "execution_count": 12,
   "metadata": {
    "collapsed": false,
    "scrolled": true
   },
   "outputs": [
    {
     "name": "stdout",
     "output_type": "stream",
     "text": [
      "index     actual         predicted      error              difference       \n",
      "(0, 0.94586851779507375, 0.94364017, 0.2361435405697998, 0.0022283453135368836)\n",
      "(1, 0.92923039937494367, 0.93874055, -1.0130756663123797, 0.0095101520967665332)\n",
      "(2, 0.92774789394075985, 0.94383049, -1.7039708231539774, 0.016082596171544838)\n",
      "(3, 0.92242890484919515, 0.94652671, -2.545918800938296, 0.02409780136952433)\n",
      "(4, 0.94199196642325533, 0.94542664, -0.36329380997484062, 0.0034346764714895395)\n",
      "(5, 0.94417565686009364, 0.94010752, 0.43273055044663611, 0.0040681324651046236)\n",
      "(6, 0.93847602448137357, 0.93518335, 0.35208905536934232, 0.0032926782098586793)\n",
      "(7, 0.93207520709999903, 0.93394029, -0.19970059348439761, 0.0018650843047250953)\n",
      "(8, 0.92970119501958315, 0.93858761, -0.94678545479071063, 0.0088864109336334041)\n",
      "(9, 0.93733409461990769, 0.94583529, -0.89880318362738354, 0.0085011977194172639)\n",
      "(10, 0.9452274343640753, 0.94537216, -0.015309302602517505, 0.00014472988534486309)\n",
      "(11, 0.95685708847953044, 0.94347841, 1.4180168752425892, 0.013378683003913983)\n",
      "(12, 0.94488685879135736, 0.94178128, 0.3297555838479127, 0.0031055763664306069)\n",
      "(13, 0.94825254680409898, 0.94302702, 0.55412275526667276, 0.0052255273033665617)\n",
      "(14, 0.95204896274704265, 0.9475227, 0.47769440404166197, 0.0045262629141263888)\n",
      "(15, 0.9417215093508029, 0.95564228, -1.456692934184256, 0.013920773611996173)\n",
      "(16, 0.93687331590387757, 0.96000785, -2.4098272258282427, 0.023134530451560664)\n",
      "(17, 0.93132393745429787, 0.95832384, -2.8174086721870495, 0.026999898872301253)\n",
      "(18, 0.9384459736955455, 0.95548779, -1.7835721447155284, 0.017041814027995761)\n",
      "(19, 0.94914405345033104, 0.94987559, -0.077014268009611975, 0.00073153973509376691)\n",
      "(20, 0.9491540703789404, 0.94514793, 0.42386367988829221, 0.004006138803165249)\n",
      "(21, 0.9448568080055294, 0.94394726, 0.096356272948816546, 0.00090955239410972499)\n",
      "(22, 0.93586160611433322, 0.9449659, -0.9634520024503157, 0.0091042928762978814)\n",
      "(23, 0.93901693862627844, 0.95075321, -1.2344184801057145, 0.011736273348819215)\n",
      "(24, 0.96152497721148744, 0.95387882, 0.80158581039404542, 0.0076461572690130764)\n",
      "(25, 0.96644328915867816, 0.95323712, 1.3854027078388897, 0.013206172821855655)\n"
     ]
    }
   ],
   "source": [
    "diff=[]\n",
    "ratio=[]\n",
    "p = model.predict(X_test)\n",
    "print \"index\",\"    actual        \",\"predicted     \",\"error          \",\"   difference       \"\n",
    "for u in range(len(y_test)):\n",
    "    pr = p[u][0]\n",
    "    ratio.append((y_test[u]/pr)-1)\n",
    "    diff.append(abs(y_test[u]- pr))\n",
    "    k=((y_test[u]/pr)-1)*100\n",
    "    print(u, y_test[u], pr, k, abs(y_test[u]- pr))"
   ]
  },
  {
   "cell_type": "code",
   "execution_count": 13,
   "metadata": {
    "collapsed": false
   },
   "outputs": [
    {
     "name": "stdout",
     "output_type": "stream",
     "text": [
      "average error rate : 0.458518543327\n"
     ]
    }
   ],
   "source": [
    "#size=len(ratio)\n",
    "#error=sum(ratio)/size\n",
    "total=0;\n",
    "ct=0;\n",
    "for g in ratio:\n",
    "    if not math.isnan(g):\n",
    "        total=total+g\n",
    "        ct=ct+1\n",
    "error=total/ct        \n",
    "print \"average error rate :\",abs(error*100)"
   ]
  },
  {
   "cell_type": "code",
   "execution_count": 22,
   "metadata": {
    "collapsed": false,
    "scrolled": true
   },
   "outputs": [
    {
     "name": "stdout",
     "output_type": "stream",
     "text": [
      "NASDAQ 2017-10-04 19:49:19.124681\n"
     ]
    },
    {
     "data": {
      "image/png": "[encoded data removed]",
      "text/plain": [
       "<matplotlib.figure.Figure at 0x7f4278eea610>"
      ]
     },
     "metadata": {},
     "output_type": "display_data"
    }
   ],
   "source": [
    "import matplotlib.pyplot as plt2\n",
    "print stock_name,datetime.datetime.now()\n",
    "plt2.plot(p*maxclose,color='red', label='prediction')\n",
    "plt2.plot(y_test*maxclose,color='blue', label='y_test')\n",
    "plt2.ylim([0,maxclose+100])\n",
    "plt2.legend(loc='upper left')\n",
    "plt2.show()"
   ]
  },
  {
   "cell_type": "code",
   "execution_count": 15,
   "metadata": {
    "collapsed": true
   },
   "outputs": [],
   "source": [
    "#sick!"
   ]
  },
  {
   "cell_type": "code",
   "execution_count": 16,
   "metadata": {
    "collapsed": false
   },
   "outputs": [
    {
     "name": "stdout",
     "output_type": "stream",
     "text": [
      "next time\n"
     ]
    }
   ],
   "source": [
    " print \"next time\""
   ]
  }
 ],
 "metadata": {
  "kernelspec": {
   "display_name": "Python 2",
   "language": "python",
   "name": "python2"
  },
  "language_info": {
   "codemirror_mode": {
    "name": "ipython",
    "version": 2
   },
   "file_extension": ".py",
   "mimetype": "text/x-python",
   "name": "python",
   "nbconvert_exporter": "python",
   "pygments_lexer": "ipython2",
   "version": "2.7.13"
  }
 },
 "nbformat": 4,
 "nbformat_minor": 2
}
