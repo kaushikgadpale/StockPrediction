{
 "cells": [
  {
   "cell_type": "code",
   "execution_count": 1,
   "metadata": {
    "collapsed": false
   },
   "outputs": [
    {
     "name": "stdout",
     "output_type": "stream",
     "text": [
      "Stock Prediction using Lstm <Historical Stock data,Semantic score>\n"
     ]
    }
   ],
   "source": [
    "print \"Stock Prediction using Lstm <Historical Stock data,Semantic score>\""
   ]
  },
  {
   "cell_type": "code",
   "execution_count": 20,
   "metadata": {
    "collapsed": false
   },
   "outputs": [],
   "source": [
    "import numpy as np\n",
    "import matplotlib.pyplot as plt\n",
    "import pandas as pd\n",
    "from pandas import datetime\n",
    "import math, time\n",
    "import itertools\n",
    "from sklearn import preprocessing\n",
    "import datetime\n",
    "from operator import itemgetter\n",
    "from sklearn.metrics import mean_squared_error\n",
    "from math import sqrt\n",
    "from keras.models import Sequential\n",
    "from keras.layers.core import Dense, Dropout, Activation\n",
    "from keras.layers.recurrent import LSTM\n",
    "import datetime"
   ]
  },
  {
   "cell_type": "code",
   "execution_count": 21,
   "metadata": {
    "collapsed": false
   },
   "outputs": [],
   "source": [
    "def get_stock_data(stock_name,market_name,normalized=0):\n",
    "    #getting todays date\n",
    "    today=datetime.datetime.now()\n",
    "    #dictionary for the months for Google Finance API\n",
    "    month={1:'Jan',2:'Feb',3:'Mar',4:'Apr',5:'May',6:'Jun',7:'Jul',8:'Aug',9:'Sep',10:'Oct',11:'Nov',12:'Dec'}\n",
    "    #https://finance.google.com/finance/historical?q=NASDAQ:AAPL&num=30&ei=-8_DWfi2NMOYuQSr3424BA&startdate=Sep+21%2C+2014&enddate=Sep+21%2C+2017&output=csv\n",
    "    url=\"https://finance.google.com/finance/historical?q=\"+market_name+\":\"+stock_name+\"&num=30&ei=-8_DWfi2NMOYuQSr3424BA\"+\"&startdate=\"+month[today.month]+\"+\"+str(today.day)+\"%2C+\"+str(today.year-2)+\"&enddate=\"+month[today.month]+\"+\"+str(today.day)+\"%2C+\"+str(today.year)+\"&output=csv\"\n",
    "    \n",
    "    col_names = ['Date','Open','High','Low','Close','Volume']\n",
    "    stocks = pd.read_csv(url,header=0, names=col_names)\n",
    "    \n",
    "    df_stocks= pd.DataFrame(stocks)\n",
    "    \n",
    "    sem_cols=['Date','Semantic']\n",
    "    semantic=pd.read_csv('/home/siddharth/Desktop/StockPrediction/semantic/semantic.csv',header=0,names=sem_cols)\n",
    "    df_semantics=pd.DataFrame(semantic)\n",
    "    df=pd.merge(semantic,stocks,how='inner',left_on=None, right_on=None)\n",
    "    df=df[::-1]\n",
    "    df_date=df.copy()\n",
    "    df.drop(df.columns[[0,4,6]], axis=1, inplace=True)\n",
    "    df_date.drop(df_date.columns[[4,6]], axis=1, inplace=True)\n",
    "    columns=['Open','High','Close']\n",
    "    df[columns] = df[columns].convert_objects(convert_numeric=True)\n",
    "    df[columns] = df[columns].astype('float64')\n",
    "    print df.dtypes\n",
    "    return df,df_date"
   ]
  },
  {
   "cell_type": "code",
   "execution_count": 22,
   "metadata": {
    "collapsed": false
   },
   "outputs": [
    {
     "name": "stdout",
     "output_type": "stream",
     "text": [
      "Semantic    float64\n",
      "Open        float64\n",
      "High        float64\n",
      "Close       float64\n",
      "dtype: object\n",
      "df---------------------------\n",
      "   Semantic    Open    High   Close\n",
      "4     0.000  114.33  115.50  115.50\n",
      "3     0.000  114.00  115.58  113.76\n",
      "2     0.000  111.34  114.17  113.77\n",
      "1     0.000  110.80  111.75  111.73\n",
      "0    -0.104  111.78  112.00  111.04\n",
      "df with date-----------------\n",
      "        Date  Semantic    Open    High   Close\n",
      "4  22-Oct-15     0.000  114.33  115.50  115.50\n",
      "3  21-Oct-15     0.000  114.00  115.58  113.76\n",
      "2  20-Oct-15     0.000  111.34  114.17  113.77\n",
      "1  19-Oct-15     0.000  110.80  111.75  111.73\n",
      "0  16-Oct-15    -0.104  111.78  112.00  111.04\n"
     ]
    },
    {
     "name": "stderr",
     "output_type": "stream",
     "text": [
      "/home/siddharth/miniconda2/lib/python2.7/site-packages/ipykernel/__main__.py:23: FutureWarning: convert_objects is deprecated.  Use the data-type specific converters pd.to_datetime, pd.to_timedelta and pd.to_numeric.\n"
     ]
    }
   ],
   "source": [
    "stock_name = 'NASDAQ'\n",
    "market_name= 'AAPL'\n",
    "df,df_date= get_stock_data(stock_name,market_name,0)\n",
    "print \"df---------------------------\"\n",
    "print df.tail()\n",
    "print \"df with date-----------------\"\n",
    "print df_date.tail()"
   ]
  },
  {
   "cell_type": "code",
   "execution_count": 23,
   "metadata": {
    "collapsed": false
   },
   "outputs": [
    {
     "name": "stdout",
     "output_type": "stream",
     "text": [
      "     Semantic      Open      High     Close\n",
      "350  0.096750  0.935348  0.936847  0.939756\n",
      "349  0.038750  0.939499  0.937758  0.934634\n",
      "348  0.000000  0.938950  0.940433  0.940427\n",
      "347 -0.130167  0.926618  0.935570  0.933780\n",
      "346 -0.085750  0.915690  0.922867  0.917988\n"
     ]
    }
   ],
   "source": [
    "maxhigh=max(df['High'])\n",
    "maxclose=max(df['Close'])\n",
    "maxopen=max(df['Open'])\n",
    "df['High']=df['High']/max(df['High'])\n",
    "df['Close']=df['Close']/max(df['Close'])\n",
    "df['Open']=df['Open']/max(df['Open'])\n",
    "print df.head()"
   ]
  },
  {
   "cell_type": "code",
   "execution_count": 24,
   "metadata": {
    "collapsed": true
   },
   "outputs": [],
   "source": [
    "def model_data(stock,seq_len):\n",
    "    features=len(stock.columns)\n",
    "    data=stock.as_matrix()\n",
    "    print data"
   ]
  },
  {
   "cell_type": "code",
   "execution_count": 25,
   "metadata": {
    "collapsed": false
   },
   "outputs": [],
   "source": [
    "#main lstm !--! Yo ready for work\n",
    "def build_model2(layers):\n",
    "        d = 0.2\n",
    "        model = Sequential()\n",
    "        model.add(LSTM(128, input_shape=(layers[1], layers[0]), return_sequences=True))\n",
    "        model.add(Dropout(d))\n",
    "        model.add(LSTM(64, input_shape=(layers[1], layers[0]), return_sequences=False))\n",
    "        model.add(Dropout(d))\n",
    "        model.add(Dense(16,init='uniform',activation='relu'))        \n",
    "        model.add(Dense(1,init='uniform',activation='relu'))\n",
    "        model.compile(loss='mse',optimizer='adam',metrics=['accuracy'])\n",
    "        return model"
   ]
  },
  {
   "cell_type": "code",
   "execution_count": 26,
   "metadata": {
    "collapsed": true
   },
   "outputs": [],
   "source": [
    "def load_data(stock, seq_len):\n",
    "    amount_of_features = len(stock.columns)\n",
    "    data = stock.as_matrix() #pd.DataFrame(stock)\n",
    "    sequence_length = seq_len + 1\n",
    "    result = []\n",
    "    for index in range(len(data) - sequence_length):\n",
    "        result.append(data[index: index + sequence_length])\n",
    "\n",
    "    result = np.array(result)\n",
    "    row = round(0.9 * result.shape[0])\n",
    "    train = result[:int(row), :]\n",
    "    x_train = train[:, :-1]\n",
    "    y_train = train[:, -1][:,-1]\n",
    "    x_test = result[int(row):, :-1]\n",
    "    y_test = result[int(row):, -1][:,-1]\n",
    "\n",
    "    x_train = np.reshape(x_train, (x_train.shape[0], x_train.shape[1], amount_of_features))\n",
    "    x_test = np.reshape(x_test, (x_test.shape[0], x_test.shape[1], amount_of_features))  \n",
    "\n",
    "    return [x_train, y_train, x_test, y_test]"
   ]
  },
  {
   "cell_type": "code",
   "execution_count": 27,
   "metadata": {
    "collapsed": false
   },
   "outputs": [
    {
     "name": "stdout",
     "output_type": "stream",
     "text": [
      "('X_train', (311, 5, 4))\n",
      "('y_train', (311,))\n",
      "('X_test', (34, 5, 4))\n",
      "('y_test', (34,))\n"
     ]
    }
   ],
   "source": [
    "window = 5\n",
    "X_train, y_train, X_test, y_test = load_data(df[::-1], window)\n",
    "print(\"X_train\", X_train.shape)\n",
    "print(\"y_train\", y_train.shape)\n",
    "print(\"X_test\", X_test.shape)\n",
    "print(\"y_test\", y_test.shape)"
   ]
  },
  {
   "cell_type": "code",
   "execution_count": 28,
   "metadata": {
    "collapsed": false
   },
   "outputs": [
    {
     "name": "stderr",
     "output_type": "stream",
     "text": [
      "/home/siddharth/miniconda2/lib/python2.7/site-packages/ipykernel/__main__.py:9: UserWarning: Update your `Dense` call to the Keras 2 API: `Dense(16, activation=\"relu\", kernel_initializer=\"uniform\")`\n",
      "/home/siddharth/miniconda2/lib/python2.7/site-packages/ipykernel/__main__.py:10: UserWarning: Update your `Dense` call to the Keras 2 API: `Dense(1, activation=\"relu\", kernel_initializer=\"uniform\")`\n"
     ]
    },
    {
     "data": {
      "text/plain": [
       "<keras.callbacks.History at 0x7f83afb75990>"
      ]
     },
     "execution_count": 28,
     "metadata": {},
     "output_type": "execute_result"
    }
   ],
   "source": [
    "model = build_model2([4,window,1])\n",
    "\n",
    "model.fit(\n",
    "    X_train,\n",
    "    y_train,\n",
    "    batch_size=512,\n",
    "    nb_epoch=500,\n",
    "    validation_split=0.1,\n",
    "    verbose=0)"
   ]
  },
  {
   "cell_type": "code",
   "execution_count": 29,
   "metadata": {
    "collapsed": false
   },
   "outputs": [
    {
     "name": "stdout",
     "output_type": "stream",
     "text": [
      "Train Score: 0.00 MSE (0.02 RMSE)\n",
      "Test Score: 0.00 MSE (0.02 RMSE)\n"
     ]
    }
   ],
   "source": [
    "trainScore = model.evaluate(X_train, y_train, verbose=0)\n",
    "print('Train Score: %.2f MSE (%.2f RMSE)' % (trainScore[0], math.sqrt(trainScore[0])))\n",
    "\n",
    "testScore = model.evaluate(X_test, y_test, verbose=0)\n",
    "print('Test Score: %.2f MSE (%.2f RMSE)' % (testScore[0], math.sqrt(testScore[0])))"
   ]
  },
  {
   "cell_type": "code",
   "execution_count": 30,
   "metadata": {
    "collapsed": false,
    "scrolled": true
   },
   "outputs": [
    {
     "name": "stdout",
     "output_type": "stream",
     "text": [
      "index     actual         predicted      error              difference       \n",
      "(0, 0.93573170731707322, 0.92810023, 0.82226884281035861, 0.007631479007441877)\n",
      "(1, 0.91804878048780492, 0.92827708, -1.1018579554678887, 0.010228294802875015)\n",
      "(2, 0.91158536585365857, 0.93011063, -1.9917273123107759, 0.018525267519601929)\n",
      "(3, 0.906890243902439, 0.93386418, -2.8884213632166977, 0.02697393237090695)\n",
      "(4, 0.94707317073170727, 0.93500096, 1.2911446341290933, 0.012072214673205073)\n",
      "(5, 0.96024390243902435, 0.93441969, 2.7636629567582505, 0.025824210876371767)\n",
      "(6, 0.97469512195121943, 0.93390208, 4.3680207793234116, 0.040793037123796339)\n",
      "(7, 0.98536585365853657, 0.93736845, 5.1204412714164649, 0.047997401109555859)\n",
      "(8, 0.98140243902439017, 0.94719851, 3.6110623578017531, 0.034203928854407262)\n",
      "(9, 0.96256097560975618, 0.95840043, 0.4341136743878371, 0.0041605473146206773)\n",
      "(10, 0.96036585365853655, 0.96033585, 0.0031242135630993317, 3.0002942899343132e-05)\n",
      "(11, 0.95859756097560977, 0.96315318, -0.47299044044678551, 0.0045556224846258209)\n",
      "(12, 0.97426829268292681, 0.96328241, 1.140463718700313, 0.010985886352818164)\n",
      "(13, 0.97548780487804876, 0.96109587, 1.4974505450482622, 0.014391935336880546)\n",
      "(14, 0.97115853658536588, 0.95793265, 1.380669666915324, 0.013225885542427651)\n",
      "(15, 0.9747560975609757, 0.9571414, 1.8403444035307359, 0.017614698177430776)\n",
      "(16, 0.98457317073170736, 0.958395, 2.7314589853396409, 0.026178166459246421)\n",
      "(17, 0.9933536585365853, 0.96100289, 3.3663553671497759, 0.032350772241266701)\n",
      "(18, 0.9960365853658536, 0.96296781, 3.4340475251538827, 0.033068772350869469)\n",
      "(19, 1.0, 0.96425968, 3.7065031862280051, 0.035740315914154053)\n",
      "(20, 0.9847560975609756, 0.96581817, 1.9608174168282089, 0.01893793082818751)\n",
      "(21, 0.98085365853658546, 0.96708256, 1.423983746877644, 0.013771098474177013)\n",
      "(22, 0.97347560975609759, 0.96744156, 0.62371218840910903, 0.0060340509182069679)\n",
      "(23, 0.96512195121951216, 0.96642691, -0.13502911997327338, 0.0013049577503669862)\n",
      "(24, 0.97487804878048778, 0.96612138, 0.90637402724318417, 0.0087566732197272845)\n",
      "(25, 0.96749999999999992, 0.96273524, 0.49491948900250993, 0.004764764308929359)\n",
      "(26, 0.9678658536585365, 0.96230656, 0.57770515229280672, 0.005559294572690554)\n",
      "(27, 0.95164634146341465, 0.95810121, -0.67371499247795841, 0.0064548715149483904)\n",
      "(28, 0.93530487804878037, 0.95735782, -2.3035217606816816, 0.02205294579994399)\n",
      "(29, 0.92615853658536573, 0.95363408, -2.8811414323005269, 0.027475546685660879)\n",
      "(30, 0.91798780487804887, 0.94727808, -3.0920463629227291, 0.029290277492709182)\n",
      "(31, 0.93378048780487799, 0.93573779, -0.20917193855176652, 0.0019573008723375862)\n",
      "(32, 0.94042682926829257, 0.92597061, 1.5611959055669367, 0.014456215311841158)\n",
      "(33, 0.93463414634146347, 0.92143691, 1.4322457019704915, 0.013197240480562589)\n"
     ]
    }
   ],
   "source": [
    "diff=[]\n",
    "ratio=[]\n",
    "p = model.predict(X_test)\n",
    "print \"index\",\"    actual        \",\"predicted     \",\"error          \",\"   difference       \"\n",
    "for u in range(len(y_test)):\n",
    "    pr = p[u][0]\n",
    "    ratio.append((y_test[u]/pr)-1)\n",
    "    diff.append(abs(y_test[u]- pr))\n",
    "    k=((y_test[u]/pr)-1)*100\n",
    "    print(u, y_test[u], pr, k, abs(y_test[u]- pr))"
   ]
  },
  {
   "cell_type": "code",
   "execution_count": 31,
   "metadata": {
    "collapsed": false
   },
   "outputs": [
    {
     "name": "stdout",
     "output_type": "stream",
     "text": [
      "average error rate : 0.904190090532 %\n"
     ]
    }
   ],
   "source": [
    "#size=len(ratio)\n",
    "#error=sum(ratio)/size\n",
    "total=0;\n",
    "ct=0;\n",
    "for g in ratio:\n",
    "    if not math.isnan(g):\n",
    "        total=total+g\n",
    "        ct=ct+1\n",
    "error=total/ct        \n",
    "print \"average error rate :\",abs(error*100),\"%\""
   ]
  },
  {
   "cell_type": "code",
   "execution_count": 32,
   "metadata": {
    "collapsed": false,
    "scrolled": true
   },
   "outputs": [
    {
     "name": "stdout",
     "output_type": "stream",
     "text": [
      "NASDAQ 2017-10-04 20:02:17.271672\n"
     ]
    },
    {
     "data": {
      "image/png": "[encoded data removed]",
      "text/plain": [
       "<matplotlib.figure.Figure at 0x7f83afb17350>"
      ]
     },
     "metadata": {},
     "output_type": "display_data"
    }
   ],
   "source": [
    "import matplotlib.pyplot as plt2\n",
    "print stock_name,datetime.datetime.now()\n",
    "plt2.plot(p*maxclose,color='red', label='prediction')\n",
    "plt2.plot(y_test*maxclose,color='blue', label='y_test')\n",
    "plt2.ylim([0,maxclose+100])\n",
    "plt2.legend(loc='upper left')\n",
    "plt2.show()"
   ]
  },
  {
   "cell_type": "code",
   "execution_count": 33,
   "metadata": {
    "collapsed": true
   },
   "outputs": [],
   "source": [
    "#Pretty sick right!!!"
   ]
  },
  {
   "cell_type": "code",
   "execution_count": 35,
   "metadata": {
    "collapsed": false
   },
   "outputs": [
    {
     "name": "stdout",
     "output_type": "stream",
     "text": [
      "The End\n"
     ]
    }
   ],
   "source": [
    " print \"The End\""
   ]
  }
 ],
 "metadata": {
  "kernelspec": {
   "display_name": "Python 2",
   "language": "python",
   "name": "python2"
  },
  "language_info": {
   "codemirror_mode": {
    "name": "ipython",
    "version": 2
   },
   "file_extension": ".py",
   "mimetype": "text/x-python",
   "name": "python",
   "nbconvert_exporter": "python",
   "pygments_lexer": "ipython2",
   "version": "2.7.13"
  }
 },
 "nbformat": 4,
 "nbformat_minor": 2
}
