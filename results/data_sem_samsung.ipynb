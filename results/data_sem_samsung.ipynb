{
 "cells": [
  {
   "cell_type": "code",
   "execution_count": 1,
   "metadata": {
    "collapsed": false
   },
   "outputs": [
    {
     "name": "stdout",
     "output_type": "stream",
     "text": [
      "Stock Prediction using Lstm <Historical Stock data,Semantic score>\n"
     ]
    }
   ],
   "source": [
    "print \"Stock Prediction using Lstm <Historical Stock data,Semantic score>\""
   ]
  },
  {
   "cell_type": "code",
   "execution_count": 137,
   "metadata": {
    "collapsed": false
   },
   "outputs": [],
   "source": [
    "import numpy as np\n",
    "import matplotlib.pyplot as plt\n",
    "import pandas as pd\n",
    "from pandas import datetime\n",
    "import math, time\n",
    "import itertools\n",
    "from sklearn import preprocessing\n",
    "import datetime\n",
    "from operator import itemgetter\n",
    "from sklearn.metrics import mean_squared_error\n",
    "from math import sqrt\n",
    "from keras.models import Sequential\n",
    "from keras.layers.core import Dense, Dropout, Activation\n",
    "from keras.layers.recurrent import LSTM\n",
    "import datetime"
   ]
  },
  {
   "cell_type": "code",
   "execution_count": 138,
   "metadata": {
    "collapsed": false
   },
   "outputs": [],
   "source": [
    "def get_stock_data(stock_name,market_name,normalized=0):\n",
    "    #getting todays date\n",
    "    today=datetime.datetime.now()\n",
    "    #dictionary for the months for Google Finance API\n",
    "    month={1:'Jan',2:'Feb',3:'Mar',4:'Apr',5:'May',6:'Jun',7:'Jul',8:'Aug',9:'Sep',10:'Oct',11:'Nov',12:'Dec'}\n",
    "    #https://finance.google.com/finance/historical?q=NASDAQ:AAPL&num=30&ei=-8_DWfi2NMOYuQSr3424BA&startdate=Sep+21%2C+2014&enddate=Sep+21%2C+2017&output=csv\n",
    "    url=\"https://finance.google.com/finance/historical?q=\"+market_name+\":\"+stock_name+\"&num=30&ei=-8_DWfi2NMOYuQSr3424BA\"+\"&startdate=\"+month[today.month]+\"+\"+str(today.day)+\"%2C+\"+str(today.year-2)+\"&enddate=\"+month[today.month]+\"+\"+str(today.day)+\"%2C+\"+str(today.year)+\"&output=csv\"\n",
    "    \n",
    "    col_names = ['Date','Open','High','Low','Close','Volume']\n",
    "    stocks = pd.read_csv(url,header=0, names=col_names)\n",
    "    \n",
    "    df_stocks= pd.DataFrame(stocks)\n",
    "    \n",
    "    sem_cols=['Date','Semantic']\n",
    "    semantic=pd.read_csv('/home/siddharth/Desktop/StockPrediction/semantic/semantic.csv',header=0,names=sem_cols)\n",
    "    df_semantics=pd.DataFrame(semantic)\n",
    "    df=pd.merge(semantic,stocks,how='inner',left_on=None, right_on=None)\n",
    "    df=df[::-1]\n",
    "    df_date=df.copy()\n",
    "    df.drop(df.columns[[0,4,6]], axis=1, inplace=True)\n",
    "    df_date.drop(df_date.columns[[4,6]], axis=1, inplace=True)\n",
    "    columns=['Open','High','Close']\n",
    "    df[columns] = df[columns].convert_objects(convert_numeric=True)\n",
    "    df[columns] = df[columns].astype('float64')\n",
    "    print df.dtypes\n",
    "    return df,df_date"
   ]
  },
  {
   "cell_type": "code",
   "execution_count": 139,
   "metadata": {
    "collapsed": false,
    "scrolled": true
   },
   "outputs": [
    {
     "name": "stdout",
     "output_type": "stream",
     "text": [
      "Semantic    float64\n",
      "Open        float64\n",
      "High        float64\n",
      "Close       float64\n",
      "dtype: object\n",
      "df---------------------------\n",
      "   Semantic       Open       High      Close\n",
      "4       0.0  1265000.0  1269000.0  1265000.0\n",
      "3       0.0  1244000.0  1282000.0  1269000.0\n",
      "2       0.0  1248000.0  1260000.0  1254000.0\n",
      "1       0.0  1260000.0  1272000.0  1252000.0\n",
      "0       0.0  1260000.0  1263000.0  1260000.0\n",
      "df with date-----------------\n",
      "        Date  Semantic       Open       High      Close\n",
      "4  16-Oct-15       0.0  1265000.0  1269000.0  1265000.0\n",
      "3  15-Oct-15       0.0  1244000.0  1282000.0  1269000.0\n",
      "2  14-Oct-15       0.0  1248000.0  1260000.0  1254000.0\n",
      "1  13-Oct-15       0.0  1260000.0  1272000.0  1252000.0\n",
      "0  12-Oct-15       0.0  1260000.0  1263000.0  1260000.0\n"
     ]
    },
    {
     "name": "stderr",
     "output_type": "stream",
     "text": [
      "/home/siddharth/miniconda2/lib/python2.7/site-packages/ipykernel/__main__.py:23: FutureWarning: convert_objects is deprecated.  Use the data-type specific converters pd.to_datetime, pd.to_timedelta and pd.to_numeric.\n"
     ]
    }
   ],
   "source": [
    "stock_name = '005930'\n",
    "market_name= 'KRX'\n",
    "df,df_date= get_stock_data(stock_name,market_name,0)\n",
    "print \"df---------------------------\"\n",
    "print df.tail()\n",
    "print \"df with date-----------------\"\n",
    "print df_date.tail()"
   ]
  },
  {
   "cell_type": "code",
   "execution_count": 140,
   "metadata": {
    "collapsed": false
   },
   "outputs": [
    {
     "name": "stdout",
     "output_type": "stream",
     "text": [
      "     Semantic      Open      High     Close\n",
      "354  0.021250  0.965296  0.961624  0.956360\n",
      "353 -0.054500  0.985666  0.977273  0.955987\n",
      "352  0.000000  0.980762  0.972429  0.963819\n",
      "351 -0.113333  1.000000  0.989568  0.963446\n",
      "350  0.096000  0.999623  1.000000  1.000000\n"
     ]
    }
   ],
   "source": [
    "maxhigh=max(df['High'])\n",
    "maxclose=max(df['Close'])\n",
    "maxopen=max(df['Open'])\n",
    "df['High']=df['High']/max(df['High'])\n",
    "df['Close']=df['Close']/max(df['Close'])\n",
    "df['Open']=df['Open']/max(df['Open'])\n",
    "print df.head()"
   ]
  },
  {
   "cell_type": "code",
   "execution_count": 141,
   "metadata": {
    "collapsed": true
   },
   "outputs": [],
   "source": [
    "def model_data(stock,seq_len):\n",
    "    features=len(stock.columns)\n",
    "    data=stock.as_matrix()\n",
    "    print data"
   ]
  },
  {
   "cell_type": "code",
   "execution_count": 142,
   "metadata": {
    "collapsed": false
   },
   "outputs": [],
   "source": [
    "#main lstm !--! Yo ready for work\n",
    "def build_model2(layers):\n",
    "        d = 0.2\n",
    "        model = Sequential()\n",
    "        model.add(LSTM(128, input_shape=(layers[1], layers[0]), return_sequences=True))\n",
    "        model.add(Dropout(d))\n",
    "        model.add(LSTM(64, input_shape=(layers[1], layers[0]), return_sequences=False))\n",
    "        model.add(Dropout(d))\n",
    "        model.add(Dense(16,init='uniform',activation='relu'))        \n",
    "        model.add(Dense(1,init='uniform',activation='relu'))\n",
    "        model.compile(loss='mse',optimizer='adam',metrics=['accuracy'])\n",
    "        return model"
   ]
  },
  {
   "cell_type": "code",
   "execution_count": 143,
   "metadata": {
    "collapsed": true
   },
   "outputs": [],
   "source": [
    "def load_data(stock, seq_len):\n",
    "    amount_of_features = len(stock.columns)\n",
    "    data = stock.as_matrix() #pd.DataFrame(stock)\n",
    "    sequence_length = seq_len + 1\n",
    "    result = []\n",
    "    for index in range(len(data) - sequence_length):\n",
    "        result.append(data[index: index + sequence_length])\n",
    "\n",
    "    result = np.array(result)\n",
    "    row = round(0.9 * result.shape[0])\n",
    "    train = result[:int(row), :]\n",
    "    x_train = train[:, :-1]\n",
    "    y_train = train[:, -1][:,-1]\n",
    "    x_test = result[int(row):, :-1]\n",
    "    y_test = result[int(row):, -1][:,-1]\n",
    "\n",
    "    x_train = np.reshape(x_train, (x_train.shape[0], x_train.shape[1], amount_of_features))\n",
    "    x_test = np.reshape(x_test, (x_test.shape[0], x_test.shape[1], amount_of_features))  \n",
    "\n",
    "    return [x_train, y_train, x_test, y_test]"
   ]
  },
  {
   "cell_type": "code",
   "execution_count": 144,
   "metadata": {
    "collapsed": false
   },
   "outputs": [
    {
     "name": "stdout",
     "output_type": "stream",
     "text": [
      "('X_train', (314, 5, 4))\n",
      "('y_train', (314,))\n",
      "('X_test', (35, 5, 4))\n",
      "('y_test', (35,))\n"
     ]
    }
   ],
   "source": [
    "window = 5\n",
    "X_train, y_train, X_test, y_test = load_data(df[::-1], window)\n",
    "print(\"X_train\", X_train.shape)\n",
    "print(\"y_train\", y_train.shape)\n",
    "print(\"X_test\", X_test.shape)\n",
    "print(\"y_test\", y_test.shape)"
   ]
  },
  {
   "cell_type": "code",
   "execution_count": 145,
   "metadata": {
    "collapsed": false
   },
   "outputs": [
    {
     "name": "stderr",
     "output_type": "stream",
     "text": [
      "/home/siddharth/miniconda2/lib/python2.7/site-packages/ipykernel/__main__.py:9: UserWarning: Update your `Dense` call to the Keras 2 API: `Dense(16, activation=\"relu\", kernel_initializer=\"uniform\")`\n",
      "/home/siddharth/miniconda2/lib/python2.7/site-packages/ipykernel/__main__.py:10: UserWarning: Update your `Dense` call to the Keras 2 API: `Dense(1, activation=\"relu\", kernel_initializer=\"uniform\")`\n"
     ]
    },
    {
     "data": {
      "text/plain": [
       "<keras.callbacks.History at 0x7f424305fbd0>"
      ]
     },
     "execution_count": 145,
     "metadata": {},
     "output_type": "execute_result"
    }
   ],
   "source": [
    "model = build_model2([4,window,1])\n",
    "\n",
    "model.fit(\n",
    "    X_train,\n",
    "    y_train,\n",
    "    batch_size=512,\n",
    "    nb_epoch=500,\n",
    "    validation_split=0.1,\n",
    "    verbose=0)"
   ]
  },
  {
   "cell_type": "code",
   "execution_count": 146,
   "metadata": {
    "collapsed": false
   },
   "outputs": [
    {
     "name": "stdout",
     "output_type": "stream",
     "text": [
      "Train Score: 0.00 MSE (0.02 RMSE)\n",
      "Test Score: 0.00 MSE (0.04 RMSE)\n"
     ]
    }
   ],
   "source": [
    "trainScore = model.evaluate(X_train, y_train, verbose=0)\n",
    "print('Train Score: %.2f MSE (%.2f RMSE)' % (trainScore[0], math.sqrt(trainScore[0])))\n",
    "\n",
    "testScore = model.evaluate(X_test, y_test, verbose=0)\n",
    "print('Test Score: %.2f MSE (%.2f RMSE)' % (testScore[0], math.sqrt(testScore[0])))"
   ]
  },
  {
   "cell_type": "code",
   "execution_count": 147,
   "metadata": {
    "collapsed": false,
    "scrolled": true
   },
   "outputs": [
    {
     "name": "stdout",
     "output_type": "stream",
     "text": [
      "index     actual         predicted      error              difference       \n",
      "(0, 0.94852666915330097, 0.9135235, 3.8316665241811876, 0.035003173956004829)\n",
      "(1, 0.93248787765759045, 0.91486472, 1.9263130798701678, 0.017623158743558465)\n",
      "(2, 0.92950391644908614, 0.91544783, 1.5354326939089002, 0.014056085295216514)\n",
      "(3, 0.92875792614696007, 0.91542321, 1.4566717886441705, 0.013334711711382674)\n",
      "(4, 0.89071242073853041, 0.91312015, -2.4539738624406282, 0.022407729827570666)\n",
      "(5, 0.89891831406191725, 0.90961862, -1.176350379463198, 0.010700302042208731)\n",
      "(6, 0.85602387168966798, 0.90509862, -5.422032965390966, 0.049074745387205798)\n",
      "(7, 0.83215218202163377, 0.89924556, -7.4610741625413812, 0.067093378147586202)\n",
      "(8, 0.83923908989183138, 0.8915388, -5.8662291520104271, 0.052299708917220133)\n",
      "(9, 0.86161879895561355, 0.87706286, -1.7608838488024636, 0.015444058195417942)\n",
      "(10, 0.87728459530026115, 0.86172897, 1.8051649269829051, 0.015555629064146648)\n",
      "(11, 0.87467362924281988, 0.84825993, 3.1138690625172494, 0.026413703400534727)\n",
      "(12, 0.87355464378963077, 0.84772998, 3.0463311932459769, 0.025824662844043611)\n",
      "(13, 0.87653860499813507, 0.85590124, 2.411185157792195, 0.020637363695644839)\n",
      "(14, 0.88549048862364788, 0.86484128, 2.3876295774653, 0.020649206255941577)\n",
      "(15, 0.88623647892577395, 0.86921239, 1.9585650353189932, 0.017024089933464381)\n",
      "(16, 0.87691160014919811, 0.86988372, 0.80791074860442347, 0.0070278840427833167)\n",
      "(17, 0.85975382320029836, 0.8719545, -1.399233270251532, 0.012200677474903054)\n",
      "(18, 0.85938082804923532, 0.87326914, -1.5903817074854554, 0.013888312671132108)\n",
      "(19, 0.86161879895561355, 0.87433732, -1.4546464364999179, 0.012718516603773655)\n",
      "(20, 0.86385676986199178, 0.87042236, -0.75429971657756667, 0.0065655934192582199)\n",
      "(21, 0.92875792614696007, 0.86549145, 7.3098903895881806, 0.063266476314043807)\n",
      "(22, 0.92502797463632969, 0.86192262, 7.3214638203715987, 0.06310535290933994)\n",
      "(23, 0.92540096978739272, 0.86573619, 6.8917973180653069, 0.059664783283028711)\n",
      "(24, 0.93808280492353602, 0.87814081, 6.8260121023370424, 0.059941997771741584)\n",
      "(25, 0.93994778067885121, 0.8920095, 5.3741898677039046, 0.047938283990008435)\n",
      "(26, 0.97873927638940694, 0.9072507, 7.8796934321072376, 0.071488574008272909)\n",
      "(27, 0.97202536367027226, 0.90905398, 6.9271334443486099, 0.062971382366103557)\n",
      "(28, 0.97389033942558745, 0.91265965, 6.7090393089108025, 0.061230694345021042)\n",
      "(29, 0.98470719880641555, 0.91861856, 7.1943505017769915, 0.066088638969074243)\n",
      "(30, 0.98843715031704593, 0.92389828, 6.9854952726412733, 0.064538870650145297)\n",
      "(31, 1.0, 0.92906582, 7.6350000878929736, 0.070934176445007324)\n",
      "(32, 0.96344647519582249, 0.93124336, 3.458077290535333, 0.032203115153250472)\n",
      "(33, 0.96381947034688553, 0.93269604, 3.3369312636429616, 0.03112342590184769)\n",
      "(34, 0.95598657217456173, 0.93447381, 2.3021254640679389, 0.02151275959445309)\n"
     ]
    }
   ],
   "source": [
    "diff=[]\n",
    "ratio=[]\n",
    "p = model.predict(X_test)\n",
    "print \"index\",\"    actual        \",\"predicted     \",\"error          \",\"   difference       \"\n",
    "for u in range(len(y_test)):\n",
    "    pr = p[u][0]\n",
    "    ratio.append((y_test[u]/pr)-1)\n",
    "    diff.append(abs(y_test[u]- pr))\n",
    "    k=((y_test[u]/pr)-1)*100\n",
    "    print(u, y_test[u], pr, k, abs(y_test[u]- pr))"
   ]
  },
  {
   "cell_type": "code",
   "execution_count": 148,
   "metadata": {
    "collapsed": false
   },
   "outputs": [
    {
     "name": "stdout",
     "output_type": "stream",
     "text": [
      "average error rate : 2.31693811003\n"
     ]
    }
   ],
   "source": [
    "#size=len(ratio)\n",
    "#error=sum(ratio)/size\n",
    "total=0;\n",
    "ct=0;\n",
    "for g in ratio:\n",
    "    if not math.isnan(g):\n",
    "        total=total+g\n",
    "        ct=ct+1\n",
    "error=total/ct        \n",
    "print \"average error rate :\",abs(error*100)"
   ]
  },
  {
   "cell_type": "code",
   "execution_count": 149,
   "metadata": {
    "collapsed": false,
    "scrolled": true
   },
   "outputs": [
    {
     "name": "stdout",
     "output_type": "stream",
     "text": [
      "005930 2017-10-04 21:07:26.114101\n"
     ]
    },
    {
     "data": {
      "image/png": "[encoded data removed]",
      "text/plain": [
       "<matplotlib.figure.Figure at 0x7f4242d69390>"
      ]
     },
     "metadata": {},
     "output_type": "display_data"
    }
   ],
   "source": [
    "import matplotlib.pyplot as plt2\n",
    "print stock_name,datetime.datetime.now()\n",
    "plt2.plot(p*maxclose,color='red', label='prediction')\n",
    "plt2.plot(y_test*maxclose,color='blue', label='y_test')\n",
    "plt2.ylim([0,maxclose+100])\n",
    "plt2.legend(loc='upper left')\n",
    "plt2.show()"
   ]
  },
  {
   "cell_type": "code",
   "execution_count": 150,
   "metadata": {
    "collapsed": true
   },
   "outputs": [],
   "source": [
    "#SAMSUNG"
   ]
  },
  {
   "cell_type": "code",
   "execution_count": 151,
   "metadata": {
    "collapsed": false
   },
   "outputs": [
    {
     "name": "stdout",
     "output_type": "stream",
     "text": [
      "next time\n"
     ]
    }
   ],
   "source": [
    " print \"next time\""
   ]
  }
 ],
 "metadata": {
  "kernelspec": {
   "display_name": "Python 2",
   "language": "python",
   "name": "python2"
  },
  "language_info": {
   "codemirror_mode": {
    "name": "ipython",
    "version": 2
   },
   "file_extension": ".py",
   "mimetype": "text/x-python",
   "name": "python",
   "nbconvert_exporter": "python",
   "pygments_lexer": "ipython2",
   "version": "2.7.13"
  }
 },
 "nbformat": 4,
 "nbformat_minor": 2
}
