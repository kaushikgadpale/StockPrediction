{
 "cells": [
  {
   "cell_type": "code",
   "execution_count": 1,
   "metadata": {
    "collapsed": false
   },
   "outputs": [
    {
     "name": "stdout",
     "output_type": "stream",
     "text": [
      "Stock Prediction using Lstm <Historical Stock data,Semantic score>\n"
     ]
    }
   ],
   "source": [
    "print \"Stock Prediction using Lstm <Historical Stock data,Semantic score>\""
   ]
  },
  {
   "cell_type": "code",
   "execution_count": 18,
   "metadata": {
    "collapsed": false
   },
   "outputs": [],
   "source": [
    "import numpy as np\n",
    "import matplotlib.pyplot as plt\n",
    "import pandas as pd\n",
    "from pandas import datetime\n",
    "import math, time\n",
    "import itertools\n",
    "from sklearn import preprocessing\n",
    "import datetime\n",
    "from operator import itemgetter\n",
    "from sklearn.metrics import mean_squared_error\n",
    "from math import sqrt\n",
    "from keras.models import Sequential\n",
    "from keras.layers.core import Dense, Dropout, Activation\n",
    "from keras.layers.recurrent import LSTM\n",
    "import datetime"
   ]
  },
  {
   "cell_type": "code",
   "execution_count": 19,
   "metadata": {
    "collapsed": false
   },
   "outputs": [],
   "source": [
    "def get_stock_data(stock_name,market_name,normalized=0):\n",
    "    #getting todays date\n",
    "    today=datetime.datetime.now()\n",
    "    #dictionary for the months for Google Finance API\n",
    "    month={1:'Jan',2:'Feb',3:'Mar',4:'Apr',5:'May',6:'Jun',7:'Jul',8:'Aug',9:'Sep',10:'Oct',11:'Nov',12:'Dec'}\n",
    "    #https://finance.google.com/finance/historical?q=NASDAQ:AAPL&num=30&ei=-8_DWfi2NMOYuQSr3424BA&startdate=Sep+21%2C+2014&enddate=Sep+21%2C+2017&output=csv\n",
    "    url=\"https://finance.google.com/finance/historical?q=\"+market_name+\":\"+stock_name+\"&num=30&ei=-8_DWfi2NMOYuQSr3424BA\"+\"&startdate=\"+month[today.month]+\"+\"+str(today.day)+\"%2C+\"+str(today.year-2)+\"&enddate=\"+month[today.month]+\"+\"+str(today.day)+\"%2C+\"+str(today.year)+\"&output=csv\"\n",
    "    \n",
    "    col_names = ['Date','Open','High','Low','Close','Volume']\n",
    "    stocks = pd.read_csv(url,header=0, names=col_names)\n",
    "    \n",
    "    df_stocks= pd.DataFrame(stocks)\n",
    "    \n",
    "    sem_cols=['Date','Semantic']\n",
    "    semantic=pd.read_csv('/home/siddharth/Desktop/StockPrediction/semantic/semantic.csv',header=0,names=sem_cols)\n",
    "    df_semantics=pd.DataFrame(semantic)\n",
    "    df=pd.merge(semantic,stocks,how='inner',left_on=None, right_on=None)\n",
    "    df=df[::-1]\n",
    "    df_date=df.copy()\n",
    "    df.drop(df.columns[[0,4,6]], axis=1, inplace=True)\n",
    "    df_date.drop(df_date.columns[[4,6]], axis=1, inplace=True)\n",
    "    columns=['Open','High','Close']\n",
    "    df[columns] = df[columns].convert_objects(convert_numeric=True)\n",
    "    df[columns] = df[columns].astype('float64')\n",
    "    print df.dtypes\n",
    "    return df,df_date"
   ]
  },
  {
   "cell_type": "code",
   "execution_count": 20,
   "metadata": {
    "collapsed": false
   },
   "outputs": [
    {
     "name": "stdout",
     "output_type": "stream",
     "text": [
      "Semantic    float64\n",
      "Open        float64\n",
      "High        float64\n",
      "Close       float64\n",
      "dtype: object\n",
      "df---------------------------\n",
      "   Semantic   Open   High  Close\n",
      "4       0.0  17.50  18.07  18.04\n",
      "3       0.0  17.40  17.46  17.45\n",
      "2       0.0  17.69  17.80  17.40\n",
      "1       0.0  17.78  17.78  17.53\n",
      "0       0.0  18.68  19.03  17.88\n",
      "df with date-----------------\n",
      "        Date  Semantic   Open   High  Close\n",
      "4  16-Oct-15       0.0  17.50  18.07  18.04\n",
      "3  15-Oct-15       0.0  17.40  17.46  17.45\n",
      "2  14-Oct-15       0.0  17.69  17.80  17.40\n",
      "1  13-Oct-15       0.0  17.78  17.78  17.53\n",
      "0  12-Oct-15       0.0  18.68  19.03  17.88\n"
     ]
    },
    {
     "name": "stderr",
     "output_type": "stream",
     "text": [
      "/home/siddharth/miniconda2/lib/python2.7/site-packages/ipykernel/__main__.py:23: FutureWarning: convert_objects is deprecated.  Use the data-type specific converters pd.to_datetime, pd.to_timedelta and pd.to_numeric.\n"
     ]
    }
   ],
   "source": [
    "stock_name = 'INFY'\n",
    "market_name= 'NYSE'\n",
    "df,df_date= get_stock_data(stock_name,market_name,0)\n",
    "print \"df---------------------------\"\n",
    "print df.tail()\n",
    "print \"df with date-----------------\"\n",
    "print df_date.tail()"
   ]
  },
  {
   "cell_type": "code",
   "execution_count": 21,
   "metadata": {
    "collapsed": false
   },
   "outputs": [
    {
     "name": "stdout",
     "output_type": "stream",
     "text": [
      "     Semantic      Open      High   Close\n",
      "354  0.000000  0.726487  0.716659  0.7295\n",
      "353  0.000000  0.726487  0.699072  0.7135\n",
      "352  0.000000  0.727504  0.701514  0.7150\n",
      "351  0.129000  0.734113  0.706400  0.7170\n",
      "350 -0.160000  0.738180  0.711773  0.7155\n",
      "349  0.118000  0.740214  0.713239  0.7295\n",
      "348  0.000000  0.749873  0.721544  0.7320\n",
      "347  0.000000  0.750381  0.729360  0.7420\n",
      "346  0.194750  0.755465  0.725940  0.7400\n",
      "345  0.127667  0.752923  0.723986  0.7400\n",
      "344  0.264000  0.747839  0.720078  0.7325\n",
      "343  0.013000  0.738688  0.714216  0.7275\n",
      "342  0.076000  0.738180  0.710308  0.7265\n",
      "341 -0.030250  0.739197  0.713239  0.7270\n",
      "340  0.172000  0.738688  0.716659  0.7285\n",
      "339  0.000000  0.762583  0.735222  0.7500\n",
      "338  0.000000  0.772242  0.744016  0.7525\n",
      "337  0.000000  0.772242  0.747924  0.7635\n",
      "336  0.000000  0.781393  0.754763  0.7655\n",
      "335  0.000000  0.765125  0.741573  0.7575\n",
      "334  0.000000  0.758516  0.734734  0.7495\n",
      "333  0.000000  0.739197  0.725940  0.7410\n",
      "332  0.000000  0.729029  0.702491  0.7130\n",
      "331  0.000000  0.714286  0.717147  0.7280\n",
      "330 -0.083286  0.767158  0.737176  0.7395\n",
      "329  0.000000  0.814438  0.788471  0.7965\n",
      "328  0.000000  0.786477  0.777235  0.7825\n",
      "327  0.000000  0.786477  0.758183  0.7745\n",
      "326  0.000000  0.790036  0.762091  0.7735\n",
      "325  0.000000  0.783427  0.759160  0.7745\n",
      "..        ...       ...       ...     ...\n",
      "29   0.000000  0.831215  0.804104  0.8215\n",
      "28   0.000000  0.845958  0.830484  0.8340\n",
      "27   0.000000  0.829690  0.815340  0.8235\n",
      "26   0.000000  0.826640  0.794333  0.8085\n",
      "25   0.000000  0.817997  0.794822  0.8120\n",
      "24   0.000000  0.826131  0.798241  0.8120\n",
      "23   0.000000  0.834774  0.804104  0.8105\n",
      "22   0.000000  0.827656  0.802638  0.8145\n",
      "21   0.000000  0.812405  0.789936  0.8055\n",
      "20   0.000000  0.829181  0.802149  0.8055\n",
      "19   0.000000  0.864769  0.831949  0.8455\n",
      "18   0.000000  0.876462  0.844651  0.8510\n",
      "17   0.000000  0.883579  0.857841  0.8680\n",
      "16   0.000000  0.889171  0.856864  0.8735\n",
      "15   0.000000  0.887646  0.854421  0.8730\n",
      "14   0.000000  0.924759  0.889106  0.9080\n",
      "13   0.000000  0.933910  0.902296  0.9145\n",
      "12   0.000000  0.939502  0.914509  0.9300\n",
      "11   0.000000  0.940519  0.909624  0.9250\n",
      "10   0.000000  0.940010  0.910112  0.9250\n",
      "9    0.000000  0.934926  0.911578  0.9310\n",
      "8    0.000000  0.903406  0.888129  0.9080\n",
      "7    0.000000  0.920691  0.885198  0.8825\n",
      "6    0.000000  0.920691  0.887152  0.9025\n",
      "5    0.000000  0.915099  0.882755  0.8960\n",
      "4    0.000000  0.889680  0.882755  0.9020\n",
      "3    0.000000  0.884596  0.852956  0.8725\n",
      "2    0.000000  0.899339  0.869565  0.8700\n",
      "1    0.000000  0.903915  0.868588  0.8765\n",
      "0    0.000000  0.949670  0.929653  0.8940\n",
      "\n",
      "[355 rows x 4 columns]\n"
     ]
    }
   ],
   "source": [
    "maxhigh=max(df['High'])\n",
    "maxclose=max(df['Close'])\n",
    "maxopen=max(df['Open'])\n",
    "df['High']=df['High']/max(df['High'])\n",
    "df['Close']=df['Close']/max(df['Close'])\n",
    "df['Open']=df['Open']/max(df['Open'])\n",
    "print df"
   ]
  },
  {
   "cell_type": "code",
   "execution_count": 22,
   "metadata": {
    "collapsed": true
   },
   "outputs": [],
   "source": [
    "def model_data(stock,seq_len):\n",
    "    features=len(stock.columns)\n",
    "    data=stock.as_matrix()\n",
    "    print data"
   ]
  },
  {
   "cell_type": "code",
   "execution_count": 23,
   "metadata": {
    "collapsed": false
   },
   "outputs": [],
   "source": [
    "#main lstm !--! Yo ready for work\n",
    "def build_model2(layers):\n",
    "        d = 0.2\n",
    "        model = Sequential()\n",
    "        model.add(LSTM(128, input_shape=(layers[1], layers[0]), return_sequences=True))\n",
    "        model.add(Dropout(d))\n",
    "        model.add(LSTM(64, input_shape=(layers[1], layers[0]), return_sequences=False))\n",
    "        model.add(Dropout(d))\n",
    "        model.add(Dense(16,init='uniform',activation='relu'))        \n",
    "        model.add(Dense(1,init='uniform',activation='relu'))\n",
    "        model.compile(loss='mse',optimizer='adam',metrics=['accuracy'])\n",
    "        return model"
   ]
  },
  {
   "cell_type": "code",
   "execution_count": 24,
   "metadata": {
    "collapsed": true
   },
   "outputs": [],
   "source": [
    "def load_data(stock, seq_len):\n",
    "    amount_of_features = len(stock.columns)\n",
    "    data = stock.as_matrix() #pd.DataFrame(stock)\n",
    "    sequence_length = seq_len + 1\n",
    "    result = []\n",
    "    for index in range(len(data) - sequence_length):\n",
    "        result.append(data[index: index + sequence_length])\n",
    "\n",
    "    result = np.array(result)\n",
    "    row = round(0.9 * result.shape[0])\n",
    "    train = result[:int(row), :]\n",
    "    x_train = train[:, :-1]\n",
    "    y_train = train[:, -1][:,-1]\n",
    "    x_test = result[int(row):, :-1]\n",
    "    y_test = result[int(row):, -1][:,-1]\n",
    "\n",
    "    x_train = np.reshape(x_train, (x_train.shape[0], x_train.shape[1], amount_of_features))\n",
    "    x_test = np.reshape(x_test, (x_test.shape[0], x_test.shape[1], amount_of_features))  \n",
    "\n",
    "    return [x_train, y_train, x_test, y_test]"
   ]
  },
  {
   "cell_type": "code",
   "execution_count": 25,
   "metadata": {
    "collapsed": false
   },
   "outputs": [
    {
     "name": "stdout",
     "output_type": "stream",
     "text": [
      "('X_train', (314, 5, 4))\n",
      "('y_train', (314,))\n",
      "('X_test', (35, 5, 4))\n",
      "('y_test', (35,))\n"
     ]
    }
   ],
   "source": [
    "window = 5\n",
    "X_train, y_train, X_test, y_test = load_data(df[::-1], window)\n",
    "print(\"X_train\", X_train.shape)\n",
    "print(\"y_train\", y_train.shape)\n",
    "print(\"X_test\", X_test.shape)\n",
    "print(\"y_test\", y_test.shape)"
   ]
  },
  {
   "cell_type": "code",
   "execution_count": 26,
   "metadata": {
    "collapsed": false
   },
   "outputs": [
    {
     "name": "stderr",
     "output_type": "stream",
     "text": [
      "/home/siddharth/miniconda2/lib/python2.7/site-packages/ipykernel/__main__.py:9: UserWarning: Update your `Dense` call to the Keras 2 API: `Dense(16, activation=\"relu\", kernel_initializer=\"uniform\")`\n",
      "/home/siddharth/miniconda2/lib/python2.7/site-packages/ipykernel/__main__.py:10: UserWarning: Update your `Dense` call to the Keras 2 API: `Dense(1, activation=\"relu\", kernel_initializer=\"uniform\")`\n"
     ]
    },
    {
     "data": {
      "text/plain": [
       "<keras.callbacks.History at 0x7f6dab23eb10>"
      ]
     },
     "execution_count": 26,
     "metadata": {},
     "output_type": "execute_result"
    }
   ],
   "source": [
    "model = build_model2([4,window,1])\n",
    "\n",
    "model.fit(\n",
    "    X_train,\n",
    "    y_train,\n",
    "    batch_size=512,\n",
    "    nb_epoch=500,\n",
    "    validation_split=0.1,\n",
    "    verbose=0)"
   ]
  },
  {
   "cell_type": "code",
   "execution_count": 27,
   "metadata": {
    "collapsed": false
   },
   "outputs": [
    {
     "name": "stdout",
     "output_type": "stream",
     "text": [
      "Train Score: 0.00 MSE (0.03 RMSE)\n",
      "Test Score: nan MSE (nan RMSE)\n"
     ]
    }
   ],
   "source": [
    "trainScore = model.evaluate(X_train, y_train, verbose=0)\n",
    "print('Train Score: %.2f MSE (%.2f RMSE)' % (trainScore[0], math.sqrt(trainScore[0])))\n",
    "\n",
    "testScore = model.evaluate(X_test, y_test, verbose=0)\n",
    "print('Test Score: %.2f MSE (%.2f RMSE)' % (testScore[0], math.sqrt(testScore[0])))"
   ]
  },
  {
   "cell_type": "code",
   "execution_count": 28,
   "metadata": {
    "collapsed": false,
    "scrolled": true
   },
   "outputs": [
    {
     "name": "stdout",
     "output_type": "stream",
     "text": [
      "index     actual         predicted      error              difference       \n",
      "(0, 0.79049999999999998, 0.78226435, 1.0527960446862439, 0.0082356481552123828)\n",
      "(1, 0.79549999999999998, 0.78264505, 1.6425010728751577, 0.012854953289031967)\n",
      "(2, 0.77949999999999997, 0.78570825, -0.7901468040085291, 0.0062082486152649219)\n",
      "(3, 0.78550000000000009, 0.78941059, -0.495381132385464, 0.0039105911254881942)\n",
      "(4, 0.79000000000000004, 0.79156369, -0.19754439586346928, 0.0015636897087096813)\n",
      "(5, 0.76600000000000001, nan, nan, nan)\n",
      "(6, 0.77449999999999997, nan, nan, nan)\n",
      "(7, 0.77350000000000008, nan, nan, nan)\n",
      "(8, 0.77449999999999997, nan, nan, nan)\n",
      "(9, 0.78249999999999997, nan, nan, nan)\n",
      "(10, 0.79649999999999999, 0.78020233, 2.0889031257813828, 0.016297670841217027)\n",
      "(11, 0.73949999999999994, 0.78190178, -5.4229032404377708, 0.042401776790618961)\n",
      "(12, 0.72799999999999998, 0.78656775, -7.4459889529104757, 0.058567747592926045)\n",
      "(13, 0.71299999999999997, 0.78720695, -9.4266124061218157, 0.074206947803497347)\n",
      "(14, 0.74099999999999999, 0.78425246, -5.5151200301149732, 0.04325246477127076)\n",
      "(15, 0.74950000000000006, 0.77368146, -3.1255061681923491, 0.024181461811065619)\n",
      "(16, 0.75750000000000006, 0.75449544, 0.39822083997949065, 0.0030045580863953258)\n",
      "(17, 0.76550000000000007, 0.74087316, 3.3240294585853425, 0.024626842021942208)\n",
      "(18, 0.76349999999999996, 0.74772936, 2.1091373114490164, 0.015770638942718462)\n",
      "(19, 0.75250000000000006, 0.7585358, -0.79571753179424887, 0.0060358023643493075)\n",
      "(20, 0.75, 0.7647329, -1.9265415851752898, 0.014732897281646729)\n",
      "(21, 0.72850000000000004, 0.76771927, -5.1085429782413154, 0.039219268798828089)\n",
      "(22, 0.72699999999999998, 0.75996065, -4.3371523692818155, 0.032960651397705099)\n",
      "(23, 0.72649999999999992, 0.74938583, -3.0539453389463955, 0.022885833740234451)\n",
      "(24, 0.72750000000000004, 0.73521537, -1.0494021540726761, 0.0077153658866881969)\n",
      "(25, 0.73250000000000004, 0.7227965, 1.3424940871295865, 0.0097035002708435458)\n",
      "(26, 0.73999999999999999, 0.70489115, 4.9807484472283337, 0.035108854770660392)\n",
      "(27, 0.73999999999999999, 0.71073878, 4.1170149690319402, 0.029261221885681143)\n",
      "(28, 0.74199999999999999, 0.6894905, 7.6156963885138707, 0.052509502887725823)\n",
      "(29, 0.73199999999999998, 0.68690056, 6.5656438203205658, 0.045099443912506088)\n",
      "(30, 0.72950000000000004, 0.68388283, 6.6703191399424044, 0.045617167472839393)\n",
      "(31, 0.71550000000000002, 0.7071178, 1.1854042005255083, 0.0083822040557861577)\n",
      "(32, 0.71699999999999997, 0.72344261, -0.89054943034120315, 0.0064426140785217578)\n",
      "(33, 0.71500000000000008, 0.73919111, -3.2726468723433211, 0.024191114902496258)\n",
      "(34, 0.71350000000000002, 0.73281777, -2.6360945198729668, 0.019317769050598121)\n"
     ]
    }
   ],
   "source": [
    "diff=[]\n",
    "ratio=[]\n",
    "p = model.predict(X_test)\n",
    "print \"index\",\"    actual        \",\"predicted     \",\"error          \",\"   difference       \"\n",
    "for u in range(len(y_test)):\n",
    "    pr = p[u][0]\n",
    "    ratio.append((y_test[u]/pr)-1)\n",
    "    diff.append(abs(y_test[u]- pr))\n",
    "    k=((y_test[u]/pr)-1)*100\n",
    "    print(u, y_test[u], pr, k, abs(y_test[u]- pr))"
   ]
  },
  {
   "cell_type": "code",
   "execution_count": 29,
   "metadata": {
    "collapsed": false
   },
   "outputs": [
    {
     "name": "stdout",
     "output_type": "stream",
     "text": [
      "average error rate : 0.413229566802\n"
     ]
    }
   ],
   "source": [
    "#size=len(ratio)\n",
    "#error=sum(ratio)/size\n",
    "total=0;\n",
    "ct=0;\n",
    "for g in ratio:\n",
    "    if not math.isnan(g):\n",
    "        total=total+g\n",
    "        ct=ct+1\n",
    "error=total/ct        \n",
    "print \"average error rate :\",abs(error*100)"
   ]
  },
  {
   "cell_type": "code",
   "execution_count": 30,
   "metadata": {
    "collapsed": false,
    "scrolled": true
   },
   "outputs": [
    {
     "name": "stdout",
     "output_type": "stream",
     "text": [
      "INFY 2017-10-04 20:35:49.379674\n"
     ]
    },
    {
     "data": {
      "image/png": "[encoded data removed]",
      "text/plain": [
       "<matplotlib.figure.Figure at 0x7f6dab220810>"
      ]
     },
     "metadata": {},
     "output_type": "display_data"
    }
   ],
   "source": [
    "import matplotlib.pyplot as plt2\n",
    "print stock_name,datetime.datetime.now()\n",
    "plt2.plot(p*maxclose,color='red', label='prediction')\n",
    "plt2.plot(y_test*maxclose,color='blue', label='y_test')\n",
    "plt2.ylim([0,maxclose+100])\n",
    "plt2.legend(loc='upper left')\n",
    "plt2.show()"
   ]
  },
  {
   "cell_type": "code",
   "execution_count": 31,
   "metadata": {
    "collapsed": true
   },
   "outputs": [],
   "source": [
    "#nice"
   ]
  },
  {
   "cell_type": "code",
   "execution_count": 32,
   "metadata": {
    "collapsed": false
   },
   "outputs": [
    {
     "name": "stdout",
     "output_type": "stream",
     "text": [
      "next time\n"
     ]
    }
   ],
   "source": [
    " print \"next time\""
   ]
  }
 ],
 "metadata": {
  "kernelspec": {
   "display_name": "Python 2",
   "language": "python",
   "name": "python2"
  },
  "language_info": {
   "codemirror_mode": {
    "name": "ipython",
    "version": 2
   },
   "file_extension": ".py",
   "mimetype": "text/x-python",
   "name": "python",
   "nbconvert_exporter": "python",
   "pygments_lexer": "ipython2",
   "version": "2.7.13"
  }
 },
 "nbformat": 4,
 "nbformat_minor": 2
}
