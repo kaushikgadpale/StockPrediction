{
 "cells": [
  {
   "cell_type": "code",
   "execution_count": 1,
   "metadata": {
    "collapsed": false
   },
   "outputs": [
    {
     "name": "stdout",
     "output_type": "stream",
     "text": [
      "Stock Prediction using Lstm\n"
     ]
    }
   ],
   "source": [
    "print \"Stock Prediction using Lstm\""
   ]
  },
  {
   "cell_type": "code",
   "execution_count": 2,
   "metadata": {
    "collapsed": false
   },
   "outputs": [
    {
     "name": "stderr",
     "output_type": "stream",
     "text": [
      "Using TensorFlow backend.\n"
     ]
    }
   ],
   "source": [
    "import numpy as np\n",
    "import matplotlib.pyplot as plt\n",
    "import pandas as pd\n",
    "from pandas import datetime\n",
    "import math, time\n",
    "import itertools\n",
    "from sklearn import preprocessing\n",
    "import datetime\n",
    "from operator import itemgetter\n",
    "from sklearn.metrics import mean_squared_error\n",
    "from math import sqrt\n",
    "from keras.models import Sequential\n",
    "from keras.layers.core import Dense, Dropout, Activation\n",
    "from keras.layers.recurrent import LSTM\n",
    "import datetime"
   ]
  },
  {
   "cell_type": "code",
   "execution_count": 3,
   "metadata": {
    "collapsed": true
   },
   "outputs": [],
   "source": [
    "def get_stock_data(stock_name, normalized=0):\n",
    "    #getting todays date\n",
    "    today=datetime.datetime.now()\n",
    "    #dictionary for the months for Google Finance API\n",
    "    month={1:'Jan',2:'Feb',3:'Mar',4:'Apr',5:'May',6:'Jun',7:'Jul',8:'Aug',9:'Sep',10:'Oct',11:'Nov',12:'Dec'}\n",
    "    \n",
    "    url=\"http://www.google.com/finance/historical?q=\"+stock_name+\"&startdate=\"+month[today.month]+\"+\"+str(today.day)+\"%2C+\"+str(today.year-1)+\"&enddate=\"+month[today.month]+\"+\"+str(today.day)+\"%2C+\"+str(today.year)+\"&num=30&ei=rCtlWZGSFN3KsQHwrqWQCw&output=csv\"\n",
    "    \n",
    "    col_names = ['Date','Open','High','Low','Close','Volume']\n",
    "    stocks = pd.read_csv(url, header=0, names=col_names) \n",
    "    df = pd.DataFrame(stocks)\n",
    "    df.drop(df.columns[[0,3,5]], axis=1, inplace=True) \n",
    "    return df"
   ]
  },
  {
   "cell_type": "code",
   "execution_count": 4,
   "metadata": {
    "collapsed": false
   },
   "outputs": [
    {
     "name": "stdout",
     "output_type": "stream",
     "text": [
      "       Open     High   Close\n",
      "0    923.71   933.36  930.09\n",
      "1    935.00   936.30  923.59\n",
      "2    938.45   943.76  940.08\n",
      "3    944.29   952.49  944.19\n",
      "4    947.52   948.96  945.75\n",
      "5    943.95   947.54  945.79\n",
      "6    949.10   950.00  940.30\n",
      "7    948.37   949.10  947.64\n",
      "8    947.81   954.49  946.56\n",
      "9    960.00   961.19  945.50\n",
      "10   947.99   961.79  958.33\n",
      "11   969.18   969.52  952.51\n",
      "12   972.78   973.95  965.31\n",
      "13   970.70   976.73  969.03\n",
      "14   994.10  1006.19  998.31\n",
      "15   989.00   995.11  993.84\n",
      "16   997.00   998.68  992.19\n",
      "17   990.01   995.60  992.77\n",
      "18   973.36   990.85  986.95\n",
      "19   976.32   983.35  975.96\n",
      "20   974.00   977.54  976.91\n",
      "21   970.80   978.70  968.85\n",
      "22   960.86   969.63  967.66\n",
      "23   950.52   954.89  953.53\n",
      "24   941.95   953.13  951.00\n",
      "25   930.98   944.66  940.81\n",
      "26   925.00   936.14  927.69\n",
      "27   924.20   936.29  932.26\n",
      "28   933.22   934.24  919.46\n",
      "29   943.99   945.00  929.68\n",
      "..      ...      ...     ...\n",
      "222  815.14   817.00  814.96\n",
      "223  810.00   819.06  815.95\n",
      "224  801.26   805.91  805.03\n",
      "225  800.00   802.75  799.78\n",
      "226  801.11   803.99  795.39\n",
      "227  799.02   799.02  797.97\n",
      "228  790.01   803.64  801.23\n",
      "229  787.53   796.33  790.46\n",
      "230  794.01   795.79  788.72\n",
      "231  784.52   800.17  798.82\n",
      "232  798.77   801.75  788.48\n",
      "233  805.22   808.42  802.84\n",
      "234  807.93   810.60  807.99\n",
      "235  798.39   810.89  808.02\n",
      "236  795.27   797.10  796.87\n",
      "237  791.98   792.89  791.40\n",
      "238  789.60   791.57  789.85\n",
      "239  792.88   798.00  791.92\n",
      "240  793.05   798.52  795.82\n",
      "241  792.49   799.40  793.22\n",
      "242  792.00   794.72  791.30\n",
      "243  796.86   798.46  793.60\n",
      "244  800.48   801.00  796.59\n",
      "245  798.51   799.30  796.95\n",
      "246  799.79   801.23  799.65\n",
      "247  805.36   808.00  802.75\n",
      "248  800.00   805.63  805.42\n",
      "249  803.50   804.26  801.19\n",
      "250  807.21   811.36  805.96\n",
      "251  805.09   807.19  807.05\n",
      "\n",
      "[252 rows x 3 columns]\n"
     ]
    }
   ],
   "source": [
    "stock_name = 'GOOGL'\n",
    "df = get_stock_data(stock_name,0)\n",
    "print df"
   ]
  },
  {
   "cell_type": "code",
   "execution_count": 5,
   "metadata": {
    "collapsed": false
   },
   "outputs": [
    {
     "name": "stdout",
     "output_type": "stream",
     "text": [
      "         Open      High     Close\n",
      "0    0.918667  0.925392  0.926126\n",
      "1    0.929895  0.928307  0.919654\n",
      "2    0.933326  0.935704  0.936074\n",
      "3    0.939134  0.944359  0.940166\n",
      "4    0.942347  0.940859  0.941719\n",
      "5    0.938796  0.939451  0.941759\n",
      "6    0.943918  0.941890  0.936293\n",
      "7    0.943192  0.940998  0.943601\n",
      "8    0.942635  0.946342  0.942526\n",
      "9    0.954758  0.952985  0.941471\n",
      "10   0.942814  0.953580  0.954246\n",
      "11   0.963888  0.961244  0.948451\n",
      "12   0.967469  0.965636  0.961196\n",
      "13   0.965400  0.968392  0.964900\n",
      "14   0.988672  0.997601  0.994055\n",
      "15   0.983600  0.986615  0.989604\n",
      "16   0.991556  0.990155  0.987962\n",
      "17   0.984605  0.987101  0.988539\n",
      "18   0.968045  0.982392  0.982744\n",
      "19   0.970989  0.974956  0.971801\n",
      "20   0.968682  0.969195  0.972747\n",
      "21   0.965499  0.970345  0.964721\n",
      "22   0.955614  0.961353  0.963536\n",
      "23   0.945330  0.946739  0.949466\n",
      "24   0.936807  0.944994  0.946947\n",
      "25   0.925897  0.936596  0.936800\n",
      "26   0.919949  0.928149  0.923736\n",
      "27   0.919154  0.928297  0.928287\n",
      "28   0.928125  0.926265  0.915541\n",
      "29   0.938836  0.936933  0.925718\n",
      "..        ...       ...       ...\n",
      "222  0.810689  0.810026  0.811487\n",
      "223  0.805577  0.812068  0.812473\n",
      "224  0.796885  0.799030  0.801599\n",
      "225  0.795632  0.795897  0.796372\n",
      "226  0.796736  0.797127  0.792000\n",
      "227  0.794657  0.792199  0.794569\n",
      "228  0.785697  0.796780  0.797815\n",
      "229  0.783230  0.789532  0.787091\n",
      "230  0.789675  0.788997  0.785359\n",
      "231  0.780237  0.793339  0.795416\n",
      "232  0.794409  0.794906  0.785120\n",
      "233  0.800823  0.801519  0.799418\n",
      "234  0.803519  0.803680  0.804547\n",
      "235  0.794031  0.803968  0.804576\n",
      "236  0.790928  0.790296  0.793474\n",
      "237  0.787656  0.786121  0.788027\n",
      "238  0.785289  0.784813  0.786484\n",
      "239  0.788551  0.791188  0.788545\n",
      "240  0.788720  0.791703  0.792428\n",
      "241  0.788163  0.792576  0.789839\n",
      "242  0.787676  0.787936  0.787928\n",
      "243  0.792509  0.791644  0.790218\n",
      "244  0.796109  0.794162  0.793195\n",
      "245  0.794150  0.792477  0.793554\n",
      "246  0.795423  0.794390  0.796242\n",
      "247  0.800963  0.801103  0.799329\n",
      "248  0.795632  0.798753  0.801987\n",
      "249  0.799113  0.797394  0.797776\n",
      "250  0.802803  0.804434  0.802525\n",
      "251  0.800694  0.800299  0.803611\n",
      "\n",
      "[252 rows x 3 columns]\n"
     ]
    }
   ],
   "source": [
    "df['High']=df['High']/max(df['High'])\n",
    "df['Close']=df['Close']/max(df['Close'])\n",
    "df['Open']=df['Open']/max(df['Open'])\n",
    "print df"
   ]
  }
 ],
 "metadata": {
  "kernelspec": {
   "display_name": "Python 2",
   "language": "python",
   "name": "python2"
  },
  "language_info": {
   "codemirror_mode": {
    "name": "ipython",
    "version": 2
   },
   "file_extension": ".py",
   "mimetype": "text/x-python",
   "name": "python",
   "nbconvert_exporter": "python",
   "pygments_lexer": "ipython2",
   "version": "2.7.13"
  }
 },
 "nbformat": 4,
 "nbformat_minor": 2
}
