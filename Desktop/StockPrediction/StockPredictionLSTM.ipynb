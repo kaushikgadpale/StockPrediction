{
 "cells": [
  {
   "cell_type": "code",
   "execution_count": 30,
   "metadata": {
    "collapsed": false
   },
   "outputs": [
    {
     "name": "stdout",
     "output_type": "stream",
     "text": [
      "Stock Prediction using Lstm\n"
     ]
    }
   ],
   "source": [
    "print \"Stock Prediction using Lstm\""
   ]
  },
  {
   "cell_type": "code",
   "execution_count": 31,
   "metadata": {
    "collapsed": false
   },
   "outputs": [],
   "source": [
    "import numpy as np\n",
    "import matplotlib.pyplot as plt\n",
    "import pandas as pd\n",
    "from pandas import datetime\n",
    "import math, time\n",
    "import itertools\n",
    "from sklearn import preprocessing\n",
    "import datetime\n",
    "from operator import itemgetter\n",
    "from sklearn.metrics import mean_squared_error\n",
    "from math import sqrt\n",
    "from keras.models import Sequential\n",
    "from keras.layers.core import Dense, Dropout, Activation\n",
    "from keras.layers.recurrent import LSTM\n",
    "import datetime"
   ]
  },
  {
   "cell_type": "code",
   "execution_count": 32,
   "metadata": {
    "collapsed": false
   },
   "outputs": [],
   "source": [
    "def get_stock_data(stock_name, normalized=0):\n",
    "    #getting todays date\n",
    "    today=datetime.datetime.now()\n",
    "    #dictionary for the months for Google Finance API\n",
    "    month={1:'Jan',2:'Feb',3:'Mar',4:'Apr',5:'May',6:'Jun',7:'Jul',8:'Aug',9:'Sep',10:'Oct',11:'Nov',12:'Dec'}\n",
    "    \n",
    "    url=\"http://www.google.com/finance/historical?q=\"+stock_name+\"&startdate=\"+month[today.month]+\"+\"+str(today.day)+\"%2C+\"+str(today.year-3)+\"&enddate=\"+month[today.month]+\"+\"+str(today.day)+\"%2C+\"+str(today.year)+\"&num=30&ei=rCtlWZGSFN3KsQHwrqWQCw&output=csv\"\n",
    "    \n",
    "    col_names = ['Date','Open','High','Low','Close','Volume']\n",
    "    stocks = pd.read_csv(url, header=0, names=col_names) \n",
    "    df = pd.DataFrame(stocks)\n",
    "    df_date=df.copy()\n",
    "    df.drop(df.columns[[0,3,5]], axis=1, inplace=True)\n",
    "    df_date.drop(df_date.columns[[3,5]], axis=1, inplace=True)\n",
    "    return df,df_date"
   ]
  },
  {
   "cell_type": "code",
   "execution_count": 33,
   "metadata": {
    "collapsed": false
   },
   "outputs": [
    {
     "name": "stdout",
     "output_type": "stream",
     "text": [
      "df---------------------------\n",
      "       Open    High   Close\n",
      "751  599.49  605.40  605.40\n",
      "752  595.05  597.56  597.27\n",
      "753  589.51  596.07  593.29\n",
      "754  580.95  590.15  588.78\n",
      "755  582.24  583.92  581.64\n",
      "df with date-----------------\n",
      "          Date    Open    High   Close\n",
      "751  19-Sep-14  599.49  605.40  605.40\n",
      "752  18-Sep-14  595.05  597.56  597.27\n",
      "753  17-Sep-14  589.51  596.07  593.29\n",
      "754  16-Sep-14  580.95  590.15  588.78\n",
      "755  15-Sep-14  582.24  583.92  581.64\n"
     ]
    }
   ],
   "source": [
    "stock_name = 'GOOGL'\n",
    "df,df_date= get_stock_data(stock_name,0)\n",
    "print \"df---------------------------\"\n",
    "print df.tail()\n",
    "print \"df with date-----------------\"\n",
    "print df_date.tail()"
   ]
  },
  {
   "cell_type": "code",
   "execution_count": 34,
   "metadata": {
    "collapsed": false
   },
   "outputs": [
    {
     "name": "stdout",
     "output_type": "stream",
     "text": [
      "       Open      High     Close\n",
      "0  0.940338  0.944716  0.946389\n",
      "1  0.941750  0.939987  0.942616\n",
      "2  0.942028  0.944547  0.939270\n",
      "3  0.944515  0.942584  0.937398\n",
      "4  0.939094  0.942386  0.945842\n"
     ]
    }
   ],
   "source": [
    "maxhigh=max(df['High'])\n",
    "maxclose=max(df['Close'])\n",
    "maxopen=max(df['Open'])\n",
    "df['High']=df['High']/max(df['High'])\n",
    "df['Close']=df['Close']/max(df['Close'])\n",
    "df['Open']=df['Open']/max(df['Open'])\n",
    "print df.head()"
   ]
  },
  {
   "cell_type": "code",
   "execution_count": 35,
   "metadata": {
    "collapsed": true
   },
   "outputs": [],
   "source": [
    "def model_data(stock,seq_len):\n",
    "    features=len(stock.columns)\n",
    "    data=stock.as_matrix()\n",
    "    print data"
   ]
  },
  {
   "cell_type": "code",
   "execution_count": 36,
   "metadata": {
    "collapsed": false
   },
   "outputs": [],
   "source": [
    "#main lstm !--! Yo ready for work\n",
    "def build_model2(layers):\n",
    "        d = 0.2\n",
    "        model = Sequential()\n",
    "        model.add(LSTM(128, input_shape=(layers[1], layers[0]), return_sequences=True))\n",
    "        model.add(Dropout(d))\n",
    "        model.add(LSTM(64, input_shape=(layers[1], layers[0]), return_sequences=False))\n",
    "        model.add(Dropout(d))\n",
    "        model.add(Dense(16,init='uniform',activation='relu'))        \n",
    "        model.add(Dense(1,init='uniform',activation='relu'))\n",
    "        model.compile(loss='mse',optimizer='adam',metrics=['accuracy'])\n",
    "        return model"
   ]
  },
  {
   "cell_type": "code",
   "execution_count": 37,
   "metadata": {
    "collapsed": true
   },
   "outputs": [],
   "source": [
    "def load_data(stock, seq_len):\n",
    "    amount_of_features = len(stock.columns)\n",
    "    data = stock.as_matrix() #pd.DataFrame(stock)\n",
    "    sequence_length = seq_len + 1\n",
    "    result = []\n",
    "    for index in range(len(data) - sequence_length):\n",
    "        result.append(data[index: index + sequence_length])\n",
    "\n",
    "    result = np.array(result)\n",
    "    row = round(0.9 * result.shape[0])\n",
    "    train = result[:int(row), :]\n",
    "    x_train = train[:, :-1]\n",
    "    y_train = train[:, -1][:,-1]\n",
    "    x_test = result[int(row):, :-1]\n",
    "    y_test = result[int(row):, -1][:,-1]\n",
    "\n",
    "    x_train = np.reshape(x_train, (x_train.shape[0], x_train.shape[1], amount_of_features))\n",
    "    x_test = np.reshape(x_test, (x_test.shape[0], x_test.shape[1], amount_of_features))  \n",
    "\n",
    "    return [x_train, y_train, x_test, y_test]"
   ]
  },
  {
   "cell_type": "code",
   "execution_count": 38,
   "metadata": {
    "collapsed": false
   },
   "outputs": [
    {
     "name": "stdout",
     "output_type": "stream",
     "text": [
      "('X_train', (675, 5, 3))\n",
      "('y_train', (675,))\n",
      "('X_test', (75, 5, 3))\n",
      "('y_test', (75,))\n"
     ]
    }
   ],
   "source": [
    "window = 5\n",
    "X_train, y_train, X_test, y_test = load_data(df[::-1], window)\n",
    "print(\"X_train\", X_train.shape)\n",
    "print(\"y_train\", y_train.shape)\n",
    "print(\"X_test\", X_test.shape)\n",
    "print(\"y_test\", y_test.shape)"
   ]
  },
  {
   "cell_type": "code",
   "execution_count": 39,
   "metadata": {
    "collapsed": false
   },
   "outputs": [
    {
     "name": "stderr",
     "output_type": "stream",
     "text": [
      "/home/siddharth/miniconda2/lib/python2.7/site-packages/ipykernel/__main__.py:9: UserWarning: Update your `Dense` call to the Keras 2 API: `Dense(16, activation=\"relu\", kernel_initializer=\"uniform\")`\n",
      "/home/siddharth/miniconda2/lib/python2.7/site-packages/ipykernel/__main__.py:10: UserWarning: Update your `Dense` call to the Keras 2 API: `Dense(1, activation=\"relu\", kernel_initializer=\"uniform\")`\n"
     ]
    },
    {
     "data": {
      "text/plain": [
       "<keras.callbacks.History at 0x7f56d6d06910>"
      ]
     },
     "execution_count": 39,
     "metadata": {},
     "output_type": "execute_result"
    }
   ],
   "source": [
    "model = build_model2([3,window,1])\n",
    "\n",
    "model.fit(\n",
    "    X_train,\n",
    "    y_train,\n",
    "    batch_size=512,\n",
    "    nb_epoch=500,\n",
    "    validation_split=0.1,\n",
    "    verbose=0)"
   ]
  },
  {
   "cell_type": "code",
   "execution_count": 40,
   "metadata": {
    "collapsed": false
   },
   "outputs": [
    {
     "name": "stdout",
     "output_type": "stream",
     "text": [
      "Train Score: 0.00 MSE (0.02 RMSE)\n",
      "Test Score: 0.00 MSE (0.03 RMSE)\n"
     ]
    }
   ],
   "source": [
    "trainScore = model.evaluate(X_train, y_train, verbose=0)\n",
    "print('Train Score: %.2f MSE (%.2f RMSE)' % (trainScore[0], math.sqrt(trainScore[0])))\n",
    "\n",
    "testScore = model.evaluate(X_test, y_test, verbose=0)\n",
    "print('Test Score: %.2f MSE (%.2f RMSE)' % (testScore[0], math.sqrt(testScore[0])))"
   ]
  },
  {
   "cell_type": "code",
   "execution_count": 41,
   "metadata": {
    "collapsed": false
   },
   "outputs": [
    {
     "name": "stdout",
     "output_type": "stream",
     "text": [
      "index actual error difference\n",
      "(0, 0.98903692197395154, 0.93092936, 6.2418870350069211, 0.05810755920005628)\n",
      "(1, 0.99192456287091246, 0.93690711, 5.8722417124049686, 0.055017450272493273)\n",
      "(2, 0.9828832596487036, 0.94297576, 4.2320812322232948, 0.039907500142478014)\n",
      "(3, 0.98407814553710116, 0.94777149, 3.8307394044361009, 0.036306655916892416)\n",
      "(4, 0.99187477595889595, 0.95182014, 4.2082153302433589, 0.040054640842318801)\n",
      "(5, 0.99960170470386744, 0.95296526, 4.893824269500624, 0.046636445151865491)\n",
      "(6, 0.99243238937348144, 0.95330137, 4.1047899914047781, 0.039131019229591057)\n",
      "(7, 0.99732146413350864, 0.9536339, 4.5811667844682935, 0.043687559676416354)\n",
      "(8, 1.0, 0.95476395, 4.7379303684334184, 0.045236051082611084)\n",
      "(9, 0.96598558171028004, 0.95748949, 0.88732996920206642, 0.0084960912012468359)\n",
      "(10, 0.95771099693312622, 0.95932555, -0.16830105799063855, 0.0016145550535681119)\n",
      "(11, 0.96636396224160592, 0.95691198, 0.98775867816796037, 0.0094519811358014794)\n",
      "(12, 0.96380491496395426, 0.95301664, 1.1320134160763828, 0.010788276208155922)\n",
      "(13, 0.95608794360138605, 0.94774258, 0.88055157570865461, 0.008345362233893372)\n",
      "(14, 0.95453459194646917, 0.9392764, 1.6244626995051137, 0.015258194718228202)\n",
      "(15, 0.97106384673597013, 0.93221551, 4.1673126487830503, 0.038848334937111484)\n",
      "(16, 0.96486039749870556, 0.93326259, 3.3857363789122186, 0.031597810905077628)\n",
      "(17, 0.9744194846058869, 0.93156642, 4.6001086553379089, 0.04285306738863226)\n",
      "(18, 0.97245788027243396, 0.93011105, 4.5528788889326544, 0.042346829666660035)\n",
      "(19, 0.98188752140837221, 0.93443292, 5.078438099324889, 0.047454597614579486)\n",
      "(20, 0.96794718604373287, 0.93919337, 3.0615439872812011, 0.028753818085664018)\n",
      "(21, 0.94404946827577974, 0.94038451, 0.38973005919809012, 0.0036649610965194812)\n",
      "(22, 0.95691440634086111, 0.94081688, 1.7110159716573703, 0.016097527068400175)\n",
      "(23, 0.93382323654757649, 0.94002426, -0.65966597291745588, 0.0062010201586613078)\n",
      "(24, 0.92571792727127888, 0.93703449, -1.2076994605085378, 0.011316560453025315)\n",
      "(25, 0.91554148245509226, 0.93038779, -1.5957123036882792, 0.014846312516373805)\n",
      "(26, 0.92828693193133394, 0.92038, 0.85909468517122445, 0.0079069356315902839)\n",
      "(27, 0.92373640817301961, 0.91555637, 0.89344984298294072, 0.0081800369610139922)\n",
      "(28, 0.93680049388616715, 0.90935063, 3.0186222178831601, 0.027449860264951331)\n",
      "(29, 0.94694706655514405, 0.90574896, 4.5485123213916845, 0.041198103199125979)\n",
      "(30, 0.94946628430318236, 0.90465289, 4.9536558253209018, 0.044813390759938954)\n",
      "(31, 0.9635360656390648, 0.90764052, 6.1583355799006201, 0.05589554888109971)\n",
      "(32, 0.96472099414505919, 0.91199178, 5.7817647650526105, 0.052729219109201031)\n",
      "(33, 0.9727466443621301, 0.91887683, 5.8625722218656362, 0.053869817598977021)\n",
      "(34, 0.97180069303381533, 0.92526573, 5.0293620661038485, 0.046534963606477686)\n",
      "(35, 0.98274385629505723, 0.93071151, 5.5905990268631633, 0.052032348497816017)\n",
      "(36, 0.98853905285378585, 0.93655998, 5.5499999023945312, 0.051979077706538535)\n",
      "(37, 0.98796152467439369, 0.94032574, 5.0658815132385016, 0.047635787674881969)\n",
      "(38, 0.98960449277094042, 0.94355798, 4.8800938770019231, 0.046046515094548823)\n",
      "(39, 0.99405544270522161, 0.94688421, 4.9817313548957021, 0.047171227827139339)\n",
      "(40, 0.96490022702831879, 0.95063663, 1.5004262784480638, 0.014263601738401799)\n",
      "(41, 0.96119608077428598, 0.95239812, 0.92376908564106852, 0.0087979594173218656)\n",
      "(42, 0.94845063129804441, 0.9508208, -0.24927644989983788, 0.0023701723442285383)\n",
      "(43, 0.95424582785677303, 0.94669545, 0.79755119905515759, 0.007550380888694419)\n",
      "(44, 0.9414705062333214, 0.94128406, 0.019807597189758219, 0.00018644575511095329)\n",
      "(45, 0.94252598876807259, 0.93204862, 1.1241226866628207, 0.010477369974585038)\n",
      "(46, 0.94360138606763055, 0.92860258, 1.6152022614785988, 0.014998809811832214)\n",
      "(47, 0.93629266738359818, 0.92443997, 1.2821493155000585, 0.011852700704978791)\n",
      "(48, 0.94175927032301743, 0.92120272, 2.2314904941914016, 0.020556551111439059)\n",
      "(49, 0.94171944079340431, 0.91929823, 2.4389483652790478, 0.022421209191689218)\n",
      "(50, 0.94016608913848732, 0.91719347, 2.5046642224060278, 0.022972616753080821)\n",
      "(51, 0.93607360497072534, 0.91646081, 2.1400579948565035, 0.019612792878897944)\n",
      "(52, 0.91965388138766091, 0.91575313, 0.42596144439879247, 0.0039007552432517301)\n",
      "(53, 0.92612617994981483, 0.91481352, 1.2366084668157473, 0.01131266142564491)\n",
      "(54, 0.93492850599434418, 0.91311163, 2.3892893535580217, 0.02181687889244599)\n",
      "(55, 0.93408212849006256, 0.91042614, 2.598342427085476, 0.023655988658519589)\n",
      "(56, 0.94024574819771378, 0.90745771, 3.6131754184024256, 0.032788038885274817)\n",
      "(57, 0.92370653602580954, 0.90653414, 1.8942916780175567, 0.017172400684165257)\n",
      "(58, 0.92223284343011902, 0.90850055, 1.5115336165484106, 0.013732291252689821)\n",
      "(59, 0.91694547337395949, 0.91100043, 0.65258397146912284, 0.005945042790005628)\n",
      "(60, 0.93639224120763132, 0.90995836, 2.904954744671695, 0.026433878628285612)\n",
      "(61, 0.93856295057155381, 0.9081971, 3.343530327922295, 0.030365845640676126)\n",
      "(62, 0.93289719998406817, 0.90502578, 3.0796271656395424, 0.027871419783109919)\n",
      "(63, 0.92653443262835067, 0.90415001, 2.4757422160500253, 0.022384423473077231)\n",
      "(64, 0.92417453299876529, 0.90654522, 1.9446698045664235, 0.017629311193192776)\n",
      "(65, 0.93176205839009041, 0.91002226, 2.3889305368423708, 0.021739799631545487)\n",
      "(66, 0.93960847572390171, 0.91005456, 3.2474878322164002, 0.029553911247888531)\n",
      "(67, 0.95116899669414912, 0.9086349, 4.6810986016932343, 0.042534095647396186)\n",
      "(68, 0.94793284741307204, 0.90762854, 4.440617453079243, 0.04030431118870681)\n",
      "(69, 0.93746763850718928, 0.90920877, 3.1080720656273542, 0.028258863940538892)\n",
      "(70, 0.93800533715696821, 0.91311824, 2.7255061569909866, 0.024887093939499949)\n",
      "(71, 0.94584179710837613, 0.91761947, 3.0756028341186514, 0.028222330326759915)\n",
      "(72, 0.93739793683036599, 0.91956753, 1.9389996874950022, 0.017830411443555683)\n",
      "(73, 0.93926992472218906, 0.91818571, 2.2962907791692411, 0.021084213815206643)\n",
      "(74, 0.94261560520970245, 0.9157725, 2.9311982642532097, 0.026843107555741264)\n"
     ]
    }
   ],
   "source": [
    "diff=[]\n",
    "ratio=[]\n",
    "p = model.predict(X_test)\n",
    "print \"index\",\"actual\",\"error\",\"difference\"\n",
    "for u in range(len(y_test)):\n",
    "    pr = p[u][0]\n",
    "    ratio.append((y_test[u]/pr)-1)\n",
    "    diff.append(abs(y_test[u]- pr))\n",
    "    k=((y_test[u]/pr)-1)*100\n",
    "    print(u, y_test[u], pr, k, abs(y_test[u]- pr))"
   ]
  },
  {
   "cell_type": "code",
   "execution_count": 42,
   "metadata": {
    "collapsed": false
   },
   "outputs": [
    {
     "name": "stdout",
     "output_type": "stream",
     "text": [
      "average error rate : 2.79916108611\n"
     ]
    }
   ],
   "source": [
    "size=len(ratio)\n",
    "error=sum(ratio)/size\n",
    "print \"average error rate :\",error*100"
   ]
  },
  {
   "cell_type": "code",
   "execution_count": 43,
   "metadata": {
    "collapsed": false
   },
   "outputs": [
    {
     "data": {
      "image/png": "[encoded data removed]",
      "text/plain": [
       "<matplotlib.figure.Figure at 0x7f56f558bb90>"
      ]
     },
     "metadata": {},
     "output_type": "display_data"
    }
   ],
   "source": [
    "import matplotlib.pyplot as plt2\n",
    "\n",
    "plt2.plot(p*maxclose,color='red', label='prediction')\n",
    "plt2.plot(y_test*maxclose,color='blue', label='y_test')\n",
    "plt2.ylim([0,1000])\n",
    "plt2.legend(loc='upper left')\n",
    "plt2.show()"
   ]
  },
  {
   "cell_type": "code",
   "execution_count": 44,
   "metadata": {
    "collapsed": true
   },
   "outputs": [],
   "source": [
    "#to do\n",
    "#work on google finance collect financial news data mix with other data"
   ]
  },
  {
   "cell_type": "code",
   "execution_count": 45,
   "metadata": {
    "collapsed": false
   },
   "outputs": [
    {
     "name": "stdout",
     "output_type": "stream",
     "text": [
      "next time\n"
     ]
    }
   ],
   "source": [
    " print \"next time\""
   ]
  }
 ],
 "metadata": {
  "kernelspec": {
   "display_name": "Python 2",
   "language": "python",
   "name": "python2"
  },
  "language_info": {
   "codemirror_mode": {
    "name": "ipython",
    "version": 2
   },
   "file_extension": ".py",
   "mimetype": "text/x-python",
   "name": "python",
   "nbconvert_exporter": "python",
   "pygments_lexer": "ipython2",
   "version": "2.7.13"
  }
 },
 "nbformat": 4,
 "nbformat_minor": 2
}
