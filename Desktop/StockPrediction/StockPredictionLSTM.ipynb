{
 "cells": [
  {
   "cell_type": "code",
   "execution_count": 33,
   "metadata": {
    "collapsed": false
   },
   "outputs": [
    {
     "name": "stdout",
     "output_type": "stream",
     "text": [
      "Stock Prediction using Lstm\n"
     ]
    }
   ],
   "source": [
    "print \"Stock Prediction using Lstm\""
   ]
  },
  {
   "cell_type": "code",
   "execution_count": 34,
   "metadata": {
    "collapsed": false
   },
   "outputs": [],
   "source": [
    "import numpy as np\n",
    "import matplotlib.pyplot as plt\n",
    "import pandas as pd\n",
    "from pandas import datetime\n",
    "import math, time\n",
    "import itertools\n",
    "from sklearn import preprocessing\n",
    "import datetime\n",
    "from operator import itemgetter\n",
    "from sklearn.metrics import mean_squared_error\n",
    "from math import sqrt\n",
    "from keras.models import Sequential\n",
    "from keras.layers.core import Dense, Dropout, Activation\n",
    "from keras.layers.recurrent import LSTM\n",
    "import datetime"
   ]
  },
  {
   "cell_type": "code",
   "execution_count": 35,
   "metadata": {
    "collapsed": true
   },
   "outputs": [],
   "source": [
    "def get_stock_data(stock_name, normalized=0):\n",
    "    #getting todays date\n",
    "    today=datetime.datetime.now()\n",
    "    #dictionary for the months for Google Finance API\n",
    "    month={1:'Jan',2:'Feb',3:'Mar',4:'Apr',5:'May',6:'Jun',7:'Jul',8:'Aug',9:'Sep',10:'Oct',11:'Nov',12:'Dec'}\n",
    "    \n",
    "    url=\"http://www.google.com/finance/historical?q=\"+stock_name+\"&startdate=\"+month[today.month]+\"+\"+str(today.day)+\"%2C+\"+str(today.year-1)+\"&enddate=\"+month[today.month]+\"+\"+str(today.day)+\"%2C+\"+str(today.year)+\"&num=30&ei=rCtlWZGSFN3KsQHwrqWQCw&output=csv\"\n",
    "    \n",
    "    col_names = ['Date','Open','High','Low','Close','Volume']\n",
    "    stocks = pd.read_csv(url, header=0, names=col_names) \n",
    "    df = pd.DataFrame(stocks)\n",
    "    #df.drop(df.columns[[0,3,5]], axis=1, inplace=True) \n",
    "    return df"
   ]
  },
  {
   "cell_type": "code",
   "execution_count": 36,
   "metadata": {
    "collapsed": false
   },
   "outputs": [
    {
     "name": "stdout",
     "output_type": "stream",
     "text": [
      "          Date    Open     High     Low   Close   Volume\n",
      "0    28-Jul-17  947.99   961.79  945.31  958.33  1813794\n",
      "1    27-Jul-17  969.18   969.52  937.06  952.51  3717900\n",
      "2    26-Jul-17  972.78   973.95  960.23  965.31  2221625\n",
      "3    25-Jul-17  970.70   976.73  963.80  969.03  5933602\n",
      "4    24-Jul-17  994.10  1006.19  990.27  998.31  3984532\n",
      "5    21-Jul-17  989.00   995.11  984.17  993.84  1463322\n",
      "6    20-Jul-17  997.00   998.68  984.62  992.19  1418385\n",
      "7    19-Jul-17  990.01   995.60  987.01  992.77  1412148\n",
      "8    18-Jul-17  973.36   990.85  972.04  986.95  1413335\n",
      "9    17-Jul-17  976.32   983.35  970.80  975.96  1660464\n",
      "10   14-Jul-17  974.00   977.54  970.15  976.91  1079608\n",
      "11   13-Jul-17  970.80   978.70  964.80  968.85  1524571\n",
      "12   12-Jul-17  960.86   969.63  957.04  967.66  1602115\n",
      "13   11-Jul-17  950.52   954.89  945.12  953.53  1461247\n",
      "14   10-Jul-17  941.95   953.13  941.95  951.00  1451460\n",
      "15    7-Jul-17  930.98   944.66  929.79  940.81  1663302\n",
      "16    6-Jul-17  925.00   936.14  919.85  927.69  2014855\n",
      "17    5-Jul-17  924.20   936.29  918.63  932.26  2094055\n",
      "18    3-Jul-17  933.22   934.24  915.31  919.46  1694811\n",
      "19   30-Jun-17  943.99   945.00  929.61  929.68  2287662\n",
      "20   29-Jun-17  951.35   951.66  929.60  937.82  3206674\n",
      "21   28-Jun-17  950.66   963.24  936.16  961.01  2745568\n",
      "22   27-Jun-17  961.60   967.22  947.09  948.09  2443602\n",
      "23   26-Jun-17  990.00   993.99  970.33  972.09  1517912\n",
      "24   23-Jun-17  975.50   986.62  974.46  986.09  1563985\n",
      "25   22-Jun-17  976.87   980.50  973.31  976.62  1009476\n",
      "26   21-Jun-17  970.79   979.67  969.16  978.59  1161607\n",
      "27   20-Jun-17  975.31   980.79  968.20  968.99  1297287\n",
      "28   19-Jun-17  969.65   979.30  968.20  975.22  1468837\n",
      "29   16-Jun-17  957.91   959.95  948.70  958.62  2559207\n",
      "..         ...     ...      ...     ...     ...      ...\n",
      "221  12-Sep-16  784.52   800.17  783.50  798.82  1863737\n",
      "222   9-Sep-16  798.77   801.75  788.05  788.48  1887633\n",
      "223   8-Sep-16  805.22   808.42  801.01  802.84  1177660\n",
      "224   7-Sep-16  807.93   810.60  803.72  807.99  1145724\n",
      "225   6-Sep-16  798.39   810.89  795.43  808.02  1989537\n",
      "226   2-Sep-16  795.27   797.10  793.26  796.87  1347368\n",
      "227   1-Sep-16  791.98   792.89  786.33  791.40  1303460\n",
      "228  31-Aug-16  789.60   791.57  787.20  789.85  1071420\n",
      "229  30-Aug-16  792.88   798.00  789.47  791.92  1167413\n",
      "230  29-Aug-16  793.05   798.52  790.32  795.82   773698\n",
      "231  26-Aug-16  792.49   799.40  789.41  793.22  1248881\n",
      "232  25-Aug-16  792.00   794.72  787.23  791.30  1202680\n",
      "233  24-Aug-16  796.86   798.46  790.76  793.60  1284437\n",
      "234  23-Aug-16  800.48   801.00  795.99  796.59   917513\n",
      "235  22-Aug-16  798.51   799.30  794.33  796.95   853365\n",
      "236  19-Aug-16  799.79   801.23  796.88  799.65  1120763\n",
      "237  18-Aug-16  805.36   808.00  801.63  802.75   865160\n",
      "238  17-Aug-16  800.00   805.63  796.30  805.42  1066070\n",
      "239  16-Aug-16  803.50   804.26  797.00  801.19  1057897\n",
      "240  15-Aug-16  807.21   811.36  804.03  805.96   930074\n",
      "241  12-Aug-16  805.09   807.19  803.64  807.05   897283\n",
      "242  11-Aug-16  810.47   813.88  806.00  808.20  1282274\n",
      "243  10-Aug-16  807.05   810.88  806.49  808.49   918514\n",
      "244   9-Aug-16  804.49   813.33  804.06  807.48  1607685\n",
      "245   8-Aug-16  806.00   807.60  801.69  805.23  1221609\n",
      "246   5-Aug-16  800.11   807.22  797.81  806.93  1807271\n",
      "247   4-Aug-16  798.24   800.20  793.92  797.25  1076031\n",
      "248   3-Aug-16  796.47   799.54  793.02  798.92  1461025\n",
      "249   2-Aug-16  797.33   802.32  794.53  800.12  1996354\n",
      "250   1-Aug-16  786.67   807.49  785.04  800.94  3029658\n",
      "\n",
      "[251 rows x 6 columns]\n"
     ]
    }
   ],
   "source": [
    "stock_name = 'GOOGL'\n",
    "df = get_stock_data(stock_name,0)\n",
    "print df"
   ]
  },
  {
   "cell_type": "code",
   "execution_count": null,
   "metadata": {
    "collapsed": true
   },
   "outputs": [],
   "source": []
  }
 ],
 "metadata": {
  "kernelspec": {
   "display_name": "Python 2",
   "language": "python",
   "name": "python2"
  },
  "language_info": {
   "codemirror_mode": {
    "name": "ipython",
    "version": 2
   },
   "file_extension": ".py",
   "mimetype": "text/x-python",
   "name": "python",
   "nbconvert_exporter": "python",
   "pygments_lexer": "ipython2",
   "version": "2.7.13"
  }
 },
 "nbformat": 4,
 "nbformat_minor": 2
}
